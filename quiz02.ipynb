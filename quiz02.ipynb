{
  "nbformat": 4,
  "nbformat_minor": 0,
  "metadata": {
    "colab": {
      "name": "quiz02.ipynb",
      "provenance": [],
      "collapsed_sections": []
    },
    "kernelspec": {
      "display_name": "Python 3",
      "language": "python",
      "name": "python3"
    },
    "language_info": {
      "codemirror_mode": {
        "name": "ipython",
        "version": 2
      },
      "file_extension": ".py",
      "mimetype": "text/x-python",
      "name": "python",
      "nbconvert_exporter": "python",
      "pygments_lexer": "ipython2",
      "version": "2.7.14"
    },
    "toc": {
      "toc_cell": false,
      "toc_number_sections": true,
      "toc_threshold": 6,
      "toc_window_display": false
    },
    "accelerator": "GPU"
  },
  "cells": [
    {
      "cell_type": "markdown",
      "metadata": {
        "id": "0qcuWsh-No4z"
      },
      "source": [
        "<img src=\"https://gitlab.com/bivl2ab/academico/cursos-uis/ai/ai-uis-student/raw/master/imgs/banner_IA.png\"  width=\"1000px\" height=\"200px\">\n",
        "\n",
        "# **Parcial 02 - IA**\n",
        "\n",
        "## **Outline**\n",
        "\n",
        "1. [Ejercicio 1. Clasificación](#eje1)\n",
        "2. [Ejercicio 2. LeaveOneOut](#eje2)\n",
        "3. [Ejercicio 3. Regresión](#eje3)\n",
        "4. [Ejercicio 4. DNN](#eje4)"
      ]
    },
    {
      "cell_type": "code",
      "metadata": {
        "id": "vvZ_IA44mfND",
        "colab": {
          "base_uri": "https://localhost:8080/"
        },
        "outputId": "374371dc-2d5a-44bb-d93e-6d49d72651c2"
      },
      "source": [
        "#@title 1. MONTAR EL DRIVE **student** { display-mode: \"form\" }\n",
        "import os\n",
        "from google.colab import drive\n",
        "drive.mount('/content/drive')\n",
        "os.chdir('/content/drive/My Drive/quiz02/')\n",
        "print(os.getcwd())\n",
        "!gdown -q 1Y7-HL0CFU3YHUy_ABwLdmvoUV2bUQO1V\n",
        "!unzip -qq fsdd.zip"
      ],
      "execution_count": 16,
      "outputs": [
        {
          "metadata": {
            "tags": null
          },
          "name": "stdout",
          "output_type": "stream",
          "text": [
            "Drive already mounted at /content/drive; to attempt to forcibly remount, call drive.mount(\"/content/drive\", force_remount=True).\n",
            "/content/drive/My Drive/quiz02\n",
            "replace fsdd/9_yweweler_5.wav? [y]es, [n]o, [A]ll, [N]one, [r]ename: y\n",
            "replace fsdd/9_yweweler_36.wav? [y]es, [n]o, [A]ll, [N]one, [r]ename: n\n",
            "replace fsdd/9_yweweler_30.wav? [y]es, [n]o, [A]ll, [N]one, [r]ename: n\n",
            "replace fsdd/9_yweweler_33.wav? [y]es, [n]o, [A]ll, [N]one, [r]ename: "
          ]
        }
      ]
    },
    {
      "cell_type": "code",
      "metadata": {
        "id": "Eyzd86nGrLkv",
        "colab": {
          "base_uri": "https://localhost:8080/",
          "height": 36
        },
        "outputId": "04acde06-c340-46a1-f0d8-6b1c42c13633",
        "cellView": "form"
      },
      "source": [
        "#@title **Execute this cell**\n",
        "#@markdown Please include your student id\n",
        "import sys\n",
        "import inspect\n",
        "\n",
        "group_id = \"IA1-20221-H2\" #@param {type:\"string\"}\n",
        "assignment_id = group_id +'.parcial-2-20221'\n",
        "student_id = \"2182689\" #@param {type:\"string\"}\n",
        "\"\"\"\n",
        "Put your student ID here\n",
        "\n",
        "Example: student_id =  '2152145'\n",
        "\"\"\" "
      ],
      "execution_count": 17,
      "outputs": [
        {
          "output_type": "execute_result",
          "data": {
            "text/plain": [
              "\"\\nPut your student ID here\\n\\nExample: student_id =  '2152145'\\n\""
            ],
            "application/vnd.google.colaboratory.intrinsic+json": {
              "type": "string"
            }
          },
          "metadata": {},
          "execution_count": 17
        }
      ]
    },
    {
      "cell_type": "code",
      "metadata": {
        "id": "vF9FTR5Atp70",
        "cellView": "form"
      },
      "source": [
        " #@title **Execute this cell**\n",
        "#@markdown **UTILS**\n",
        "#@markdown Please dont modify any line in this cell\n",
        "\n",
        "import os\n",
        "import json\n",
        "import requests\n",
        "from collections import namedtuple\n",
        "\n",
        "\n",
        "Config = namedtuple('Config', ['server_name'])\n",
        "config = Config(server_name='https://bivlabgrader.azurewebsites.net/api')\n",
        "\n",
        "\n",
        "def check_solution_and_evaluate(assignment_id: str, student_func_str: str):\n",
        "\n",
        "    # Set the endpoint and payload.\n",
        "    payload = {\n",
        "        'func_str': student_func_str,\n",
        "        'assignment_id': assignment_id,\n",
        "        'student_id': student_id\n",
        "    }\n",
        "    endpoint_url = config.server_name + '/CheckAndEvaluateSolution'\n",
        "    # print(endpoint_url)\n",
        "\n",
        "    # Make request to server with the data coming from the notebook.\n",
        "    r = requests.post(endpoint_url, params=payload)\n",
        "    pprint_json_response(r.json())\n",
        "    return r\n",
        "\n",
        "\n",
        "def pprint_json_response(response, indent=0):\n",
        "    \"\"\"Pretty print the response.\"\"\"\n",
        "    for key, value in response.items():\n",
        "        print('\\t' * indent + str(key.capitalize()))\n",
        "\n",
        "        # If dictionary, do a recurrent call.\n",
        "        if isinstance(value, dict):\n",
        "            pprint_json_response(value, indent + 1)\n",
        "        else:\n",
        "            # Enumerate elements if list.\n",
        "            if isinstance(value, list):\n",
        "                if len(value) == 1:\n",
        "                    print('\\t' * (indent + 1) + str(value[0]))\n",
        "                else:\n",
        "                    for i, e in enumerate(value, start=1):\n",
        "                        print('\\t' * (indent + 1) + f'{i}. {e}')\n",
        "            else:\n",
        "                print('\\t' * (indent + 1) + str(value))\n",
        "\n",
        "def send_results_fun_20221_p02_04(model):\n",
        "  import json\n",
        "  import sys\n",
        "  import numpy as np\n",
        "  import tensorflow as tf\n",
        "\n",
        "  submission_str = 'def fun_20221_p02_04():\\n    import numpy as np\\n    xmd\\n    xpd\\n    return model_dict, test_predictions\\n'\n",
        "\n",
        "  !gdown -q 1-1bamlnoRGMJw419oKqzlUup6QTh2B8J\n",
        "  x_test = np.load(\"x2.npy\")\n",
        "  test_predictions = model.predict(x_test)\n",
        "  test_predictions = np.argmax(test_predictions, axis=-1)\n",
        "\n",
        "  # Make sure the type and shape of the array is correct.\n",
        "  test_predictions = test_predictions.astype(np.int64)\n",
        "  if test_predictions.ndim > 1:\n",
        "      test_predictions = test_predictions.flatten()\n",
        "      print(f'Flattened your predictions to shape: {test_predictions.shape}')\n",
        "\n",
        "  # Create the string to replace on submission_str.\n",
        "  with np.printoptions(threshold=sys.maxsize):\n",
        "      preds_str = ('test_predictions = np.' + np.array_repr(test_predictions)\n",
        "                  .replace('int64', 'np.int64'))\n",
        "  \n",
        "  # Replace placeholders.\n",
        "  model_dict = {i+1: model.layers[i+1].get_config()['units'] for i in range(4)}\n",
        "  model_str = \"model_dict = \" + json.dumps(model_dict)\n",
        "  submission_str = submission_str.replace('xpd', preds_str)\n",
        "  submission_str = submission_str.replace('xmd', model_str)\n",
        "\n",
        "  check_solution_and_evaluate(assignment_id, submission_str)"
      ],
      "execution_count": 18,
      "outputs": []
    },
    {
      "cell_type": "markdown",
      "source": [
        "---\n",
        "#### Usted debe ejecutar **TODAS** las celdas de tipo **CODE**. De lo contrario, sus respuestas no serán procesadas correctamente.\n",
        "---"
      ],
      "metadata": {
        "id": "FHyAGcF4Nms4"
      }
    },
    {
      "cell_type": "code",
      "metadata": {
        "id": "KApJf0bWmI9A"
      },
      "source": [
        "#@title **Import libraries**\n",
        "import numpy as np\n",
        "import tensorflow as tf\n",
        "from tensorflow import keras"
      ],
      "execution_count": 51,
      "outputs": []
    },
    {
      "cell_type": "markdown",
      "metadata": {
        "id": "zkBiHEqj_vgQ"
      },
      "source": [
        "## **Stroke dataset**\n",
        "\n",
        "Vamos a explorar un dataset que contiene los datos de 5109 pacientes que fueron evaluados en centros clínicos y fueron diagnosticados con o sin accidente cerebrovascular (Stroke). Este dataset cuenta con 12 columnas asociadas a información clínica y socioeconómica de los pacientes.\n",
        "\n",
        "[Fuente](https://www.kaggle.com/datasets/fedesoriano/stroke-prediction-dataset)"
      ]
    },
    {
      "cell_type": "code",
      "metadata": {
        "colab": {
          "base_uri": "https://localhost:8080/",
          "height": 572
        },
        "id": "JjQYGL5F_wsf",
        "outputId": "3432ad62-5164-4786-ffb1-6fbc7e02e115",
        "cellView": "form"
      },
      "source": [
        "#@title **Stroke dataset**\n",
        "cols = [\"id\", \"gender\", \"age\", \"hypertension\", \"heart_disease\", \"ever_married\", \"work_type\", \"Residence_type\", \"avg_glucose_level\", \"bmi\", \"smoking_status\", \"stroke\"]\n",
        "variable_x = \"avg_glucose_level\" #@param {type:\"string\"}\n",
        "variable_y = \"bmi\" #@param {type:\"string\"}\n",
        "\n",
        "import numpy as np\n",
        "import pandas as pd\n",
        "import matplotlib.pyplot as plt\n",
        "from sklearn.utils import shuffle\n",
        "import seaborn as sns\n",
        "sns.set_theme()\n",
        "\n",
        "X = pd.read_csv(\"https://gitlab.com/bivl2ab/academico/cursos-uis/ai/ai-uis-student/-/raw/master/data/stroke.csv\", header=0)\n",
        "X = shuffle(X)\n",
        "plt.figure(figsize=(8,5))\n",
        "sns.scatterplot(data=X, x=X[variable_x], y=X[variable_y], hue=\"stroke\")\n",
        "plt.scatter(X[variable_x], X[variable_y], s=1)\n",
        "\n",
        "X.head()"
      ],
      "execution_count": 23,
      "outputs": [
        {
          "output_type": "execute_result",
          "data": {
            "text/plain": [
              "         id  gender    age  hypertension  heart_disease  ever_married  \\\n",
              "32    39373       2  82.00             1              0             1   \n",
              "3466  10374       2  24.00             0              0             1   \n",
              "1812  12366       2  35.00             0              0             0   \n",
              "4302  24972       1   1.48             0              0             0   \n",
              "2477  24096       2  34.00             1              0             1   \n",
              "\n",
              "      work_type  Residence_type  avg_glucose_level   bmi  smoking_status  \\\n",
              "32            4               0             196.92  22.2               1   \n",
              "3466          3               1              76.42  24.8               2   \n",
              "1812          3               0              97.58  24.3               3   \n",
              "4302          0               1             112.02  20.9               3   \n",
              "2477          4               0             100.61   0.0               3   \n",
              "\n",
              "      stroke  \n",
              "32         1  \n",
              "3466       0  \n",
              "1812       0  \n",
              "4302       0  \n",
              "2477       0  "
            ],
            "text/html": [
              "\n",
              "  <div id=\"df-ebdc6b5c-1330-431b-abc0-438770e72706\">\n",
              "    <div class=\"colab-df-container\">\n",
              "      <div>\n",
              "<style scoped>\n",
              "    .dataframe tbody tr th:only-of-type {\n",
              "        vertical-align: middle;\n",
              "    }\n",
              "\n",
              "    .dataframe tbody tr th {\n",
              "        vertical-align: top;\n",
              "    }\n",
              "\n",
              "    .dataframe thead th {\n",
              "        text-align: right;\n",
              "    }\n",
              "</style>\n",
              "<table border=\"1\" class=\"dataframe\">\n",
              "  <thead>\n",
              "    <tr style=\"text-align: right;\">\n",
              "      <th></th>\n",
              "      <th>id</th>\n",
              "      <th>gender</th>\n",
              "      <th>age</th>\n",
              "      <th>hypertension</th>\n",
              "      <th>heart_disease</th>\n",
              "      <th>ever_married</th>\n",
              "      <th>work_type</th>\n",
              "      <th>Residence_type</th>\n",
              "      <th>avg_glucose_level</th>\n",
              "      <th>bmi</th>\n",
              "      <th>smoking_status</th>\n",
              "      <th>stroke</th>\n",
              "    </tr>\n",
              "  </thead>\n",
              "  <tbody>\n",
              "    <tr>\n",
              "      <th>32</th>\n",
              "      <td>39373</td>\n",
              "      <td>2</td>\n",
              "      <td>82.00</td>\n",
              "      <td>1</td>\n",
              "      <td>0</td>\n",
              "      <td>1</td>\n",
              "      <td>4</td>\n",
              "      <td>0</td>\n",
              "      <td>196.92</td>\n",
              "      <td>22.2</td>\n",
              "      <td>1</td>\n",
              "      <td>1</td>\n",
              "    </tr>\n",
              "    <tr>\n",
              "      <th>3466</th>\n",
              "      <td>10374</td>\n",
              "      <td>2</td>\n",
              "      <td>24.00</td>\n",
              "      <td>0</td>\n",
              "      <td>0</td>\n",
              "      <td>1</td>\n",
              "      <td>3</td>\n",
              "      <td>1</td>\n",
              "      <td>76.42</td>\n",
              "      <td>24.8</td>\n",
              "      <td>2</td>\n",
              "      <td>0</td>\n",
              "    </tr>\n",
              "    <tr>\n",
              "      <th>1812</th>\n",
              "      <td>12366</td>\n",
              "      <td>2</td>\n",
              "      <td>35.00</td>\n",
              "      <td>0</td>\n",
              "      <td>0</td>\n",
              "      <td>0</td>\n",
              "      <td>3</td>\n",
              "      <td>0</td>\n",
              "      <td>97.58</td>\n",
              "      <td>24.3</td>\n",
              "      <td>3</td>\n",
              "      <td>0</td>\n",
              "    </tr>\n",
              "    <tr>\n",
              "      <th>4302</th>\n",
              "      <td>24972</td>\n",
              "      <td>1</td>\n",
              "      <td>1.48</td>\n",
              "      <td>0</td>\n",
              "      <td>0</td>\n",
              "      <td>0</td>\n",
              "      <td>0</td>\n",
              "      <td>1</td>\n",
              "      <td>112.02</td>\n",
              "      <td>20.9</td>\n",
              "      <td>3</td>\n",
              "      <td>0</td>\n",
              "    </tr>\n",
              "    <tr>\n",
              "      <th>2477</th>\n",
              "      <td>24096</td>\n",
              "      <td>2</td>\n",
              "      <td>34.00</td>\n",
              "      <td>1</td>\n",
              "      <td>0</td>\n",
              "      <td>1</td>\n",
              "      <td>4</td>\n",
              "      <td>0</td>\n",
              "      <td>100.61</td>\n",
              "      <td>0.0</td>\n",
              "      <td>3</td>\n",
              "      <td>0</td>\n",
              "    </tr>\n",
              "  </tbody>\n",
              "</table>\n",
              "</div>\n",
              "      <button class=\"colab-df-convert\" onclick=\"convertToInteractive('df-ebdc6b5c-1330-431b-abc0-438770e72706')\"\n",
              "              title=\"Convert this dataframe to an interactive table.\"\n",
              "              style=\"display:none;\">\n",
              "        \n",
              "  <svg xmlns=\"http://www.w3.org/2000/svg\" height=\"24px\"viewBox=\"0 0 24 24\"\n",
              "       width=\"24px\">\n",
              "    <path d=\"M0 0h24v24H0V0z\" fill=\"none\"/>\n",
              "    <path d=\"M18.56 5.44l.94 2.06.94-2.06 2.06-.94-2.06-.94-.94-2.06-.94 2.06-2.06.94zm-11 1L8.5 8.5l.94-2.06 2.06-.94-2.06-.94L8.5 2.5l-.94 2.06-2.06.94zm10 10l.94 2.06.94-2.06 2.06-.94-2.06-.94-.94-2.06-.94 2.06-2.06.94z\"/><path d=\"M17.41 7.96l-1.37-1.37c-.4-.4-.92-.59-1.43-.59-.52 0-1.04.2-1.43.59L10.3 9.45l-7.72 7.72c-.78.78-.78 2.05 0 2.83L4 21.41c.39.39.9.59 1.41.59.51 0 1.02-.2 1.41-.59l7.78-7.78 2.81-2.81c.8-.78.8-2.07 0-2.86zM5.41 20L4 18.59l7.72-7.72 1.47 1.35L5.41 20z\"/>\n",
              "  </svg>\n",
              "      </button>\n",
              "      \n",
              "  <style>\n",
              "    .colab-df-container {\n",
              "      display:flex;\n",
              "      flex-wrap:wrap;\n",
              "      gap: 12px;\n",
              "    }\n",
              "\n",
              "    .colab-df-convert {\n",
              "      background-color: #E8F0FE;\n",
              "      border: none;\n",
              "      border-radius: 50%;\n",
              "      cursor: pointer;\n",
              "      display: none;\n",
              "      fill: #1967D2;\n",
              "      height: 32px;\n",
              "      padding: 0 0 0 0;\n",
              "      width: 32px;\n",
              "    }\n",
              "\n",
              "    .colab-df-convert:hover {\n",
              "      background-color: #E2EBFA;\n",
              "      box-shadow: 0px 1px 2px rgba(60, 64, 67, 0.3), 0px 1px 3px 1px rgba(60, 64, 67, 0.15);\n",
              "      fill: #174EA6;\n",
              "    }\n",
              "\n",
              "    [theme=dark] .colab-df-convert {\n",
              "      background-color: #3B4455;\n",
              "      fill: #D2E3FC;\n",
              "    }\n",
              "\n",
              "    [theme=dark] .colab-df-convert:hover {\n",
              "      background-color: #434B5C;\n",
              "      box-shadow: 0px 1px 3px 1px rgba(0, 0, 0, 0.15);\n",
              "      filter: drop-shadow(0px 1px 2px rgba(0, 0, 0, 0.3));\n",
              "      fill: #FFFFFF;\n",
              "    }\n",
              "  </style>\n",
              "\n",
              "      <script>\n",
              "        const buttonEl =\n",
              "          document.querySelector('#df-ebdc6b5c-1330-431b-abc0-438770e72706 button.colab-df-convert');\n",
              "        buttonEl.style.display =\n",
              "          google.colab.kernel.accessAllowed ? 'block' : 'none';\n",
              "\n",
              "        async function convertToInteractive(key) {\n",
              "          const element = document.querySelector('#df-ebdc6b5c-1330-431b-abc0-438770e72706');\n",
              "          const dataTable =\n",
              "            await google.colab.kernel.invokeFunction('convertToInteractive',\n",
              "                                                     [key], {});\n",
              "          if (!dataTable) return;\n",
              "\n",
              "          const docLinkHtml = 'Like what you see? Visit the ' +\n",
              "            '<a target=\"_blank\" href=https://colab.research.google.com/notebooks/data_table.ipynb>data table notebook</a>'\n",
              "            + ' to learn more about interactive tables.';\n",
              "          element.innerHTML = '';\n",
              "          dataTable['output_type'] = 'display_data';\n",
              "          await google.colab.output.renderOutput(dataTable, element);\n",
              "          const docLink = document.createElement('div');\n",
              "          docLink.innerHTML = docLinkHtml;\n",
              "          element.appendChild(docLink);\n",
              "        }\n",
              "      </script>\n",
              "    </div>\n",
              "  </div>\n",
              "  "
            ]
          },
          "metadata": {},
          "execution_count": 23
        },
        {
          "output_type": "display_data",
          "data": {
            "text/plain": [
              "<Figure size 576x360 with 1 Axes>"
            ],
            "image/png": "[encoded data removed]"
          },
          "metadata": {}
        }
      ]
    },
    {
      "cell_type": "markdown",
      "metadata": {
        "id": "AbMQimD4No5O"
      },
      "source": [
        "# **Ejercicio 1. Clasificación**  <a name=\"eje1\"></a>\n",
        "\n",
        "Implemente la clasificación de pacientes sobre el dataset Stroke.<br>\n",
        "Recuerde que `stroke=0` corresponde a pacientes control y `stroke=1` corresponde a pacientes que padecen accidente cerebrovascular (Stroke).\n",
        "\n",
        "Resuelva las siguientes tareas:\n",
        "1. Obtenga las \"mejores características\" usando un estimador **`DecisionTreeClassifier`** con parámetros `random_state=21`\n",
        "2. Con las **mejores características**, entrenamos un nuevo estimador **`RandomForestClassifier`** con parámetros `n_estimators=50` y `random_state=21`\n",
        "3. **Devuelva** el puntaje obtenido con la métrica **recall**\n",
        "4. **Devuelva** el puntaje obtenido con la métrica **accuracy**<br><br>\n",
        "\n",
        "5. Ahora, usando **todas** las características, use un estimador **`RandomForestClassifier`** con parámetros `n_estimators=100`, `criterion='entropy'`, `random_state=21`\n",
        "6. **Devuelva** el puntaje obtenido con la métrica **f1**\n",
        "\n",
        "Para esto, se debe crear una función que reciba `x_train`,`x_test`,`y_train`, `y_test` y el número de mejores características `n` que se van a utilizar.<br><br>\n",
        "\n",
        "<b>Referencia recall_score:</b> https://scikit-learn.org/stable/modules/generated/sklearn.metrics.recall_score.html<br>\n",
        "<b>Referencia f1_score:</b> https://scikit-learn.org/stable/modules/generated/sklearn.metrics.f1_score.html<br>\n",
        "<b>Referencia accuracy_score:</b> https://scikit-learn.org/stable/modules/generated/sklearn.metrics.accuracy_score.html<br><br>\n",
        "\n",
        "<b>Referencia DecisionTreeClassifier:</b> https://scikit-learn.org/stable/modules/generated/sklearn.tree.DecisionTreeClassifier.html<br>\n",
        "<b>Referencia RandomForestClassifier:</b> https://scikit-learn.org/stable/modules/generated/sklearn.ensemble.RandomForestClassifier.html<br>\n"
      ]
    },
    {
      "cell_type": "code",
      "source": [
        "#@title **code student**\n",
        "def fun_20221_p02_01(X_train, X_test, y_train, y_test, n):\n",
        "  import numpy as np\n",
        "  import pandas as pd\n",
        "  from sklearn.tree import DecisionTreeClassifier\n",
        "  from sklearn.ensemble import RandomForestClassifier\n",
        "  from sklearn.metrics import recall_score\n",
        "  from sklearn.metrics import f1_score\n",
        "  from sklearn.metrics import accuracy_score\n",
        "  \n",
        "  np.random.seed(21)\n",
        "\n",
        "  est1 = DecisionTreeClassifier(random_state=21)\n",
        "  est1.fit(X_train, y_train)\n",
        "  features = est1.feature_importances_\n",
        "  bestfeat = np.argsort(features)[::-1][:n]\n",
        "  bestcols = []\n",
        "  for c in range(n):\n",
        "      bestcols.append(X_train.columns[bestfeat[c]])\n",
        "\n",
        "  X_train_best = X_train[bestcols]\n",
        "  X_test_best = X_test[bestcols]\n",
        "\n",
        "  est2 = RandomForestClassifier(n_estimators=50, random_state=21)\n",
        "  est2.fit(X_train_best, y_train)\n",
        "  pred = est2.predict(X_train)\n",
        "  s1 = recall_score(X_test_best, y_test)\n",
        "  s2 = accuracy_score(X_test_best, y_test)\n",
        "\n",
        "  est3 = RandomForestClassifier(n_estimators=100, criterion='entropy', random_state=21)\n",
        "  est3.fit(X_train, y_test)\n",
        "  pred = est3.predict(X_train)\n",
        "  s3 = f1_score(X_test_best, y_test)\n",
        "  return s1, s2, s3"
      ],
      "metadata": {
        "id": "WVm5are5vKR0"
      },
      "execution_count": 72,
      "outputs": []
    },
    {
      "cell_type": "code",
      "metadata": {
        "id": "u-my4F0ZNt3K",
        "colab": {
          "base_uri": "https://localhost:8080/",
          "height": 396
        },
        "outputId": "1f47b14d-2a07-4c17-c17b-77d8485b7224"
      },
      "source": [
        "from sklearn.model_selection import train_test_split\n",
        "\n",
        "cols = [c for c in X.columns[:-1]]\n",
        "X_train, X_test, y_train, y_test = train_test_split(X.loc[:,cols], X[\"stroke\"], test_size=0.2, random_state=21)\n",
        "n = 4\n",
        "print(fun_20221_p02_01(X_train, X_test, y_train, y_test, n))\n",
        "\n",
        "#@title **send your answer**\n",
        "student_func_str = inspect.getsource(fun_20221_p02_01)\n",
        "r = check_solution_and_evaluate(assignment_id, student_func_str)"
      ],
      "execution_count": 73,
      "outputs": [
        {
          "output_type": "error",
          "ename": "ValueError",
          "evalue": "ignored",
          "traceback": [
            "\u001b[0;31m---------------------------------------------------------------------------\u001b[0m",
            "\u001b[0;31mValueError\u001b[0m                                Traceback (most recent call last)",
            "\u001b[0;32m<ipython-input-73-985475fa2496>\u001b[0m in \u001b[0;36m<module>\u001b[0;34m\u001b[0m\n\u001b[1;32m      4\u001b[0m \u001b[0mX_train\u001b[0m\u001b[0;34m,\u001b[0m \u001b[0mX_test\u001b[0m\u001b[0;34m,\u001b[0m \u001b[0my_train\u001b[0m\u001b[0;34m,\u001b[0m \u001b[0my_test\u001b[0m \u001b[0;34m=\u001b[0m \u001b[0mtrain_test_split\u001b[0m\u001b[0;34m(\u001b[0m\u001b[0mX\u001b[0m\u001b[0;34m.\u001b[0m\u001b[0mloc\u001b[0m\u001b[0;34m[\u001b[0m\u001b[0;34m:\u001b[0m\u001b[0;34m,\u001b[0m\u001b[0mcols\u001b[0m\u001b[0;34m]\u001b[0m\u001b[0;34m,\u001b[0m \u001b[0mX\u001b[0m\u001b[0;34m[\u001b[0m\u001b[0;34m\"stroke\"\u001b[0m\u001b[0;34m]\u001b[0m\u001b[0;34m,\u001b[0m \u001b[0mtest_size\u001b[0m\u001b[0;34m=\u001b[0m\u001b[0;36m0.2\u001b[0m\u001b[0;34m,\u001b[0m \u001b[0mrandom_state\u001b[0m\u001b[0;34m=\u001b[0m\u001b[0;36m21\u001b[0m\u001b[0;34m)\u001b[0m\u001b[0;34m\u001b[0m\u001b[0;34m\u001b[0m\u001b[0m\n\u001b[1;32m      5\u001b[0m \u001b[0mn\u001b[0m \u001b[0;34m=\u001b[0m \u001b[0;36m4\u001b[0m\u001b[0;34m\u001b[0m\u001b[0;34m\u001b[0m\u001b[0m\n\u001b[0;32m----> 6\u001b[0;31m \u001b[0mprint\u001b[0m\u001b[0;34m(\u001b[0m\u001b[0mfun_20221_p02_01\u001b[0m\u001b[0;34m(\u001b[0m\u001b[0mX_train\u001b[0m\u001b[0;34m,\u001b[0m \u001b[0mX_test\u001b[0m\u001b[0;34m,\u001b[0m \u001b[0my_train\u001b[0m\u001b[0;34m,\u001b[0m \u001b[0my_test\u001b[0m\u001b[0;34m,\u001b[0m \u001b[0mn\u001b[0m\u001b[0;34m)\u001b[0m\u001b[0;34m)\u001b[0m\u001b[0;34m\u001b[0m\u001b[0;34m\u001b[0m\u001b[0m\n\u001b[0m\u001b[1;32m      7\u001b[0m \u001b[0;34m\u001b[0m\u001b[0m\n\u001b[1;32m      8\u001b[0m \u001b[0;31m#@title **send your answer**\u001b[0m\u001b[0;34m\u001b[0m\u001b[0;34m\u001b[0m\u001b[0;34m\u001b[0m\u001b[0m\n",
            "\u001b[0;32m<ipython-input-72-87574b1f5e4a>\u001b[0m in \u001b[0;36mfun_20221_p02_01\u001b[0;34m(X_train, X_test, y_train, y_test, n)\u001b[0m\n\u001b[1;32m     24\u001b[0m   \u001b[0mest2\u001b[0m \u001b[0;34m=\u001b[0m \u001b[0mRandomForestClassifier\u001b[0m\u001b[0;34m(\u001b[0m\u001b[0mn_estimators\u001b[0m\u001b[0;34m=\u001b[0m\u001b[0;36m50\u001b[0m\u001b[0;34m,\u001b[0m \u001b[0mrandom_state\u001b[0m\u001b[0;34m=\u001b[0m\u001b[0;36m21\u001b[0m\u001b[0;34m)\u001b[0m\u001b[0;34m\u001b[0m\u001b[0;34m\u001b[0m\u001b[0m\n\u001b[1;32m     25\u001b[0m   \u001b[0mest2\u001b[0m\u001b[0;34m.\u001b[0m\u001b[0mfit\u001b[0m\u001b[0;34m(\u001b[0m\u001b[0mX_train_best\u001b[0m\u001b[0;34m,\u001b[0m \u001b[0my_train\u001b[0m\u001b[0;34m)\u001b[0m\u001b[0;34m\u001b[0m\u001b[0;34m\u001b[0m\u001b[0m\n\u001b[0;32m---> 26\u001b[0;31m   \u001b[0mpred\u001b[0m \u001b[0;34m=\u001b[0m \u001b[0mest2\u001b[0m\u001b[0;34m.\u001b[0m\u001b[0mpredict\u001b[0m\u001b[0;34m(\u001b[0m\u001b[0mX_train\u001b[0m\u001b[0;34m)\u001b[0m\u001b[0;34m\u001b[0m\u001b[0;34m\u001b[0m\u001b[0m\n\u001b[0m\u001b[1;32m     27\u001b[0m   \u001b[0ms1\u001b[0m \u001b[0;34m=\u001b[0m \u001b[0mrecall_score\u001b[0m\u001b[0;34m(\u001b[0m\u001b[0mX_test_best\u001b[0m\u001b[0;34m,\u001b[0m \u001b[0my_test\u001b[0m\u001b[0;34m)\u001b[0m\u001b[0;34m\u001b[0m\u001b[0;34m\u001b[0m\u001b[0m\n\u001b[1;32m     28\u001b[0m   \u001b[0ms2\u001b[0m \u001b[0;34m=\u001b[0m \u001b[0maccuracy_score\u001b[0m\u001b[0;34m(\u001b[0m\u001b[0mX_test_best\u001b[0m\u001b[0;34m,\u001b[0m \u001b[0my_test\u001b[0m\u001b[0;34m)\u001b[0m\u001b[0;34m\u001b[0m\u001b[0;34m\u001b[0m\u001b[0m\n",
            "\u001b[0;32m/usr/local/lib/python3.7/dist-packages/sklearn/ensemble/_forest.py\u001b[0m in \u001b[0;36mpredict\u001b[0;34m(self, X)\u001b[0m\n\u001b[1;32m    806\u001b[0m             \u001b[0mThe\u001b[0m \u001b[0mpredicted\u001b[0m \u001b[0mclasses\u001b[0m\u001b[0;34m.\u001b[0m\u001b[0;34m\u001b[0m\u001b[0;34m\u001b[0m\u001b[0m\n\u001b[1;32m    807\u001b[0m         \"\"\"\n\u001b[0;32m--> 808\u001b[0;31m         \u001b[0mproba\u001b[0m \u001b[0;34m=\u001b[0m \u001b[0mself\u001b[0m\u001b[0;34m.\u001b[0m\u001b[0mpredict_proba\u001b[0m\u001b[0;34m(\u001b[0m\u001b[0mX\u001b[0m\u001b[0;34m)\u001b[0m\u001b[0;34m\u001b[0m\u001b[0;34m\u001b[0m\u001b[0m\n\u001b[0m\u001b[1;32m    809\u001b[0m \u001b[0;34m\u001b[0m\u001b[0m\n\u001b[1;32m    810\u001b[0m         \u001b[0;32mif\u001b[0m \u001b[0mself\u001b[0m\u001b[0;34m.\u001b[0m\u001b[0mn_outputs_\u001b[0m \u001b[0;34m==\u001b[0m \u001b[0;36m1\u001b[0m\u001b[0;34m:\u001b[0m\u001b[0;34m\u001b[0m\u001b[0;34m\u001b[0m\u001b[0m\n",
            "\u001b[0;32m/usr/local/lib/python3.7/dist-packages/sklearn/ensemble/_forest.py\u001b[0m in \u001b[0;36mpredict_proba\u001b[0;34m(self, X)\u001b[0m\n\u001b[1;32m    848\u001b[0m         \u001b[0mcheck_is_fitted\u001b[0m\u001b[0;34m(\u001b[0m\u001b[0mself\u001b[0m\u001b[0;34m)\u001b[0m\u001b[0;34m\u001b[0m\u001b[0;34m\u001b[0m\u001b[0m\n\u001b[1;32m    849\u001b[0m         \u001b[0;31m# Check data\u001b[0m\u001b[0;34m\u001b[0m\u001b[0;34m\u001b[0m\u001b[0;34m\u001b[0m\u001b[0m\n\u001b[0;32m--> 850\u001b[0;31m         \u001b[0mX\u001b[0m \u001b[0;34m=\u001b[0m \u001b[0mself\u001b[0m\u001b[0;34m.\u001b[0m\u001b[0m_validate_X_predict\u001b[0m\u001b[0;34m(\u001b[0m\u001b[0mX\u001b[0m\u001b[0;34m)\u001b[0m\u001b[0;34m\u001b[0m\u001b[0;34m\u001b[0m\u001b[0m\n\u001b[0m\u001b[1;32m    851\u001b[0m \u001b[0;34m\u001b[0m\u001b[0m\n\u001b[1;32m    852\u001b[0m         \u001b[0;31m# Assign chunk of trees to jobs\u001b[0m\u001b[0;34m\u001b[0m\u001b[0;34m\u001b[0m\u001b[0;34m\u001b[0m\u001b[0m\n",
            "\u001b[0;32m/usr/local/lib/python3.7/dist-packages/sklearn/ensemble/_forest.py\u001b[0m in \u001b[0;36m_validate_X_predict\u001b[0;34m(self, X)\u001b[0m\n\u001b[1;32m    577\u001b[0m         Validate X whenever one tries to predict, apply, predict_proba.\"\"\"\n\u001b[1;32m    578\u001b[0m         \u001b[0mcheck_is_fitted\u001b[0m\u001b[0;34m(\u001b[0m\u001b[0mself\u001b[0m\u001b[0;34m)\u001b[0m\u001b[0;34m\u001b[0m\u001b[0;34m\u001b[0m\u001b[0m\n\u001b[0;32m--> 579\u001b[0;31m         \u001b[0mX\u001b[0m \u001b[0;34m=\u001b[0m \u001b[0mself\u001b[0m\u001b[0;34m.\u001b[0m\u001b[0m_validate_data\u001b[0m\u001b[0;34m(\u001b[0m\u001b[0mX\u001b[0m\u001b[0;34m,\u001b[0m \u001b[0mdtype\u001b[0m\u001b[0;34m=\u001b[0m\u001b[0mDTYPE\u001b[0m\u001b[0;34m,\u001b[0m \u001b[0maccept_sparse\u001b[0m\u001b[0;34m=\u001b[0m\u001b[0;34m\"csr\"\u001b[0m\u001b[0;34m,\u001b[0m \u001b[0mreset\u001b[0m\u001b[0;34m=\u001b[0m\u001b[0;32mFalse\u001b[0m\u001b[0;34m)\u001b[0m\u001b[0;34m\u001b[0m\u001b[0;34m\u001b[0m\u001b[0m\n\u001b[0m\u001b[1;32m    580\u001b[0m         \u001b[0;32mif\u001b[0m \u001b[0missparse\u001b[0m\u001b[0;34m(\u001b[0m\u001b[0mX\u001b[0m\u001b[0;34m)\u001b[0m \u001b[0;32mand\u001b[0m \u001b[0;34m(\u001b[0m\u001b[0mX\u001b[0m\u001b[0;34m.\u001b[0m\u001b[0mindices\u001b[0m\u001b[0;34m.\u001b[0m\u001b[0mdtype\u001b[0m \u001b[0;34m!=\u001b[0m \u001b[0mnp\u001b[0m\u001b[0;34m.\u001b[0m\u001b[0mintc\u001b[0m \u001b[0;32mor\u001b[0m \u001b[0mX\u001b[0m\u001b[0;34m.\u001b[0m\u001b[0mindptr\u001b[0m\u001b[0;34m.\u001b[0m\u001b[0mdtype\u001b[0m \u001b[0;34m!=\u001b[0m \u001b[0mnp\u001b[0m\u001b[0;34m.\u001b[0m\u001b[0mintc\u001b[0m\u001b[0;34m)\u001b[0m\u001b[0;34m:\u001b[0m\u001b[0;34m\u001b[0m\u001b[0;34m\u001b[0m\u001b[0m\n\u001b[1;32m    581\u001b[0m             \u001b[0;32mraise\u001b[0m \u001b[0mValueError\u001b[0m\u001b[0;34m(\u001b[0m\u001b[0;34m\"No support for np.int64 index based sparse matrices\"\u001b[0m\u001b[0;34m)\u001b[0m\u001b[0;34m\u001b[0m\u001b[0;34m\u001b[0m\u001b[0m\n",
            "\u001b[0;32m/usr/local/lib/python3.7/dist-packages/sklearn/base.py\u001b[0m in \u001b[0;36m_validate_data\u001b[0;34m(self, X, y, reset, validate_separately, **check_params)\u001b[0m\n\u001b[1;32m    583\u001b[0m \u001b[0;34m\u001b[0m\u001b[0m\n\u001b[1;32m    584\u001b[0m         \u001b[0;32mif\u001b[0m \u001b[0;32mnot\u001b[0m \u001b[0mno_val_X\u001b[0m \u001b[0;32mand\u001b[0m \u001b[0mcheck_params\u001b[0m\u001b[0;34m.\u001b[0m\u001b[0mget\u001b[0m\u001b[0;34m(\u001b[0m\u001b[0;34m\"ensure_2d\"\u001b[0m\u001b[0;34m,\u001b[0m \u001b[0;32mTrue\u001b[0m\u001b[0;34m)\u001b[0m\u001b[0;34m:\u001b[0m\u001b[0;34m\u001b[0m\u001b[0;34m\u001b[0m\u001b[0m\n\u001b[0;32m--> 585\u001b[0;31m             \u001b[0mself\u001b[0m\u001b[0;34m.\u001b[0m\u001b[0m_check_n_features\u001b[0m\u001b[0;34m(\u001b[0m\u001b[0mX\u001b[0m\u001b[0;34m,\u001b[0m \u001b[0mreset\u001b[0m\u001b[0;34m=\u001b[0m\u001b[0mreset\u001b[0m\u001b[0;34m)\u001b[0m\u001b[0;34m\u001b[0m\u001b[0;34m\u001b[0m\u001b[0m\n\u001b[0m\u001b[1;32m    586\u001b[0m \u001b[0;34m\u001b[0m\u001b[0m\n\u001b[1;32m    587\u001b[0m         \u001b[0;32mreturn\u001b[0m \u001b[0mout\u001b[0m\u001b[0;34m\u001b[0m\u001b[0;34m\u001b[0m\u001b[0m\n",
            "\u001b[0;32m/usr/local/lib/python3.7/dist-packages/sklearn/base.py\u001b[0m in \u001b[0;36m_check_n_features\u001b[0;34m(self, X, reset)\u001b[0m\n\u001b[1;32m    399\u001b[0m         \u001b[0;32mif\u001b[0m \u001b[0mn_features\u001b[0m \u001b[0;34m!=\u001b[0m \u001b[0mself\u001b[0m\u001b[0;34m.\u001b[0m\u001b[0mn_features_in_\u001b[0m\u001b[0;34m:\u001b[0m\u001b[0;34m\u001b[0m\u001b[0;34m\u001b[0m\u001b[0m\n\u001b[1;32m    400\u001b[0m             raise ValueError(\n\u001b[0;32m--> 401\u001b[0;31m                 \u001b[0;34mf\"X has {n_features} features, but {self.__class__.__name__} \"\u001b[0m\u001b[0;34m\u001b[0m\u001b[0;34m\u001b[0m\u001b[0m\n\u001b[0m\u001b[1;32m    402\u001b[0m                 \u001b[0;34mf\"is expecting {self.n_features_in_} features as input.\"\u001b[0m\u001b[0;34m\u001b[0m\u001b[0;34m\u001b[0m\u001b[0m\n\u001b[1;32m    403\u001b[0m             )\n",
            "\u001b[0;31mValueError\u001b[0m: X has 11 features, but RandomForestClassifier is expecting 4 features as input."
          ]
        }
      ]
    },
    {
      "cell_type": "markdown",
      "metadata": {
        "id": "xBqXYGcZPuqS"
      },
      "source": [
        "<br><br><br>"
      ]
    },
    {
      "cell_type": "markdown",
      "metadata": {
        "id": "f-fm3stB-lY5"
      },
      "source": [
        "# **Ejercicio 2. LeaveOneOut**  <a name=\"eje2\"></a>\n",
        "\n",
        "Para este ejercicio vamos a utilizar una versión reducida del dataset Stroke, la cual cuenta con 200 ejemplos, por lo que una partición grande para el test puede incurrir en un aprendizaje debil (pocos datos de entrenamiento). Vamos a implementar una función que realice un esquema de validación **leave-one-out**, por lo tanto desarrolle una función que: \n",
        "\n",
        "- **Devuelva** el número de splits `ns` obtenido usando el método `LeaveOneOut`\n",
        "\n",
        "- Como clasificadores utilice:\n",
        " - `RandomForestClassifier` con parámetros `n_estimators=20` y `random_state=21`\n",
        " - `SVC` con el parámetro `kernel='poly'` y `random_state=21`\n",
        " - `SVC` con el parámetro `kernel='rbf'` y `random_state=21`\n",
        "\n",
        "- **Devuelva** el **promedio** de la métrica `f1_score` para estos clasificadores, una variable por cada uno.\n",
        "\n",
        "- **Devuelva** la **desviación estándar** de la métrica `f1_score` para estos clasificadores, una variable por cada uno.<br><br>\n",
        "\n",
        "\n",
        "<b>Referencia Leave One Out:</b> https://scikit-learn.org/stable/modules/generated/sklearn.model_selection.LeaveOneOut.html"
      ]
    },
    {
      "cell_type": "code",
      "source": [
        "#@title **code student**\n",
        "def fun_20221_p02_02(data, y):\n",
        "    import numpy as np\n",
        "    import pandas as pd\n",
        "    from sklearn.model_selection import LeaveOneOut\n",
        "    from sklearn.ensemble import RandomForestClassifier\n",
        "    from sklearn.svm import SVC\n",
        "    from sklearn.metrics import f1_score\n",
        "    np.random.seed(21)\n",
        "    print(data.shape)\n",
        "\n",
        "    loo = LeaveOneOut()\n",
        "    ns = loo.get_n_splits(data)\n",
        "    est1 = RandomForestClassifier(n_estimators=20,random_state=21)\n",
        "    est2 = SVC(kernel='poly',random_state=21)\n",
        "    est3 = SVC(kernel='rbf',random_state=21)\n",
        "\n",
        "    score1 = []\n",
        "    score2 = []\n",
        "    score3 = []\n",
        "\n",
        "    for train_index, test_index in loo.split(data):\n",
        "        est1.fit(data[train_index], y[train_index])\n",
        "        est2.fit(data[train_index], y[train_index])\n",
        "        est3.fit(data[train_index], y[train_index])\n",
        "        pred1 = est1.predict(X_train)\n",
        "        pred2 = est2.predict(X_train)\n",
        "        pred3 = est3.predict(X_train)\n",
        "\n",
        "        score1.append(data([test_index],y[test_index], pred1))\n",
        "        score2.append(data([test_index],y[test_index], pred2))\n",
        "        score3.append(data([test_index],y[test_index], pred3))\n",
        " \n",
        "    return ns, np.mean(score1), np.mean(score2), np.mean(score3), np.std(score1), np.std(score2), np.std(score3)"
      ],
      "metadata": {
        "id": "yTtqOpJYvmD-"
      },
      "execution_count": 71,
      "outputs": []
    },
    {
      "cell_type": "code",
      "metadata": {
        "id": "FwgIdDNavpb4",
        "colab": {
          "base_uri": "https://localhost:8080/",
          "height": 391
        },
        "outputId": "de5332a8-6799-4c5b-eb4c-734127e167e8"
      },
      "source": [
        "import numpy as np\n",
        "import pandas as pd\n",
        "from sklearn.datasets import load_iris\n",
        "from sklearn.utils import shuffle\n",
        "import matplotlib.pyplot as plt\n",
        "import warnings\n",
        "warnings.filterwarnings('ignore')\n",
        "\n",
        "X2 = pd.read_csv(\"https://gitlab.com/bivl2ab/academico/cursos-uis/ai/ai-uis-student/-/raw/master/data/stroke2.csv\", header=0)\n",
        "X2 = shuffle(X2)\n",
        "\n",
        "cols = [c for c in X2.columns[:-1]]\n",
        "\n",
        "ns, score1, score2, score3, std1, std2, std3 = fun_20221_p02_02(X2.loc[:,cols].to_numpy(), X2[\"stroke\"])\n",
        "print(ns, score1, score2, score3, std1, std2, std3)\n",
        "f = plt.figure(figsize=(12,3))\n",
        "f.subplots_adjust(wspace=0.5)\n",
        "\n",
        "ax1 = f.add_subplot(121)\n",
        "ax1.bar([0,1,2], [score1,score2,score3])\n",
        "ax1.set_xticks(range(0,3))\n",
        "ax1.set_xticklabels(('RF', 'SVC-poly', 'SVC-rbf'))\n",
        "ax1.set_ylabel('f1_score')\n",
        "ax1.text(-0.1, 0.35, str(score1)[:8])\n",
        "ax1.text(0.82, 0.35, str(score2)[:8])\n",
        "ax1.text(1.86, 0.35, str(score3)[:8])\n",
        "plt.show()\n",
        "\n",
        "#@title **send your answer**\n",
        "student_func_str = inspect.getsource(fun_20221_p02_02)\n",
        "r = check_solution_and_evaluate(assignment_id, student_func_str) "
      ],
      "execution_count": 33,
      "outputs": [
        {
          "output_type": "stream",
          "name": "stdout",
          "text": [
            "(200, 11)\n"
          ]
        },
        {
          "output_type": "error",
          "ename": "TypeError",
          "evalue": "ignored",
          "traceback": [
            "\u001b[0;31m---------------------------------------------------------------------------\u001b[0m",
            "\u001b[0;31mTypeError\u001b[0m                                 Traceback (most recent call last)",
            "\u001b[0;32m<ipython-input-33-d960fa7fbc1f>\u001b[0m in \u001b[0;36m<module>\u001b[0;34m\u001b[0m\n\u001b[1;32m     12\u001b[0m \u001b[0mcols\u001b[0m \u001b[0;34m=\u001b[0m \u001b[0;34m[\u001b[0m\u001b[0mc\u001b[0m \u001b[0;32mfor\u001b[0m \u001b[0mc\u001b[0m \u001b[0;32min\u001b[0m \u001b[0mX2\u001b[0m\u001b[0;34m.\u001b[0m\u001b[0mcolumns\u001b[0m\u001b[0;34m[\u001b[0m\u001b[0;34m:\u001b[0m\u001b[0;34m-\u001b[0m\u001b[0;36m1\u001b[0m\u001b[0;34m]\u001b[0m\u001b[0;34m]\u001b[0m\u001b[0;34m\u001b[0m\u001b[0;34m\u001b[0m\u001b[0m\n\u001b[1;32m     13\u001b[0m \u001b[0;34m\u001b[0m\u001b[0m\n\u001b[0;32m---> 14\u001b[0;31m \u001b[0mns\u001b[0m\u001b[0;34m,\u001b[0m \u001b[0mscore1\u001b[0m\u001b[0;34m,\u001b[0m \u001b[0mscore2\u001b[0m\u001b[0;34m,\u001b[0m \u001b[0mscore3\u001b[0m\u001b[0;34m,\u001b[0m \u001b[0mstd1\u001b[0m\u001b[0;34m,\u001b[0m \u001b[0mstd2\u001b[0m\u001b[0;34m,\u001b[0m \u001b[0mstd3\u001b[0m \u001b[0;34m=\u001b[0m \u001b[0mfun_20221_p02_02\u001b[0m\u001b[0;34m(\u001b[0m\u001b[0mX2\u001b[0m\u001b[0;34m.\u001b[0m\u001b[0mloc\u001b[0m\u001b[0;34m[\u001b[0m\u001b[0;34m:\u001b[0m\u001b[0;34m,\u001b[0m\u001b[0mcols\u001b[0m\u001b[0;34m]\u001b[0m\u001b[0;34m.\u001b[0m\u001b[0mto_numpy\u001b[0m\u001b[0;34m(\u001b[0m\u001b[0;34m)\u001b[0m\u001b[0;34m,\u001b[0m \u001b[0mX2\u001b[0m\u001b[0;34m[\u001b[0m\u001b[0;34m\"stroke\"\u001b[0m\u001b[0;34m]\u001b[0m\u001b[0;34m)\u001b[0m\u001b[0;34m\u001b[0m\u001b[0;34m\u001b[0m\u001b[0m\n\u001b[0m\u001b[1;32m     15\u001b[0m \u001b[0mprint\u001b[0m\u001b[0;34m(\u001b[0m\u001b[0mns\u001b[0m\u001b[0;34m,\u001b[0m \u001b[0mscore1\u001b[0m\u001b[0;34m,\u001b[0m \u001b[0mscore2\u001b[0m\u001b[0;34m,\u001b[0m \u001b[0mscore3\u001b[0m\u001b[0;34m,\u001b[0m \u001b[0mstd1\u001b[0m\u001b[0;34m,\u001b[0m \u001b[0mstd2\u001b[0m\u001b[0;34m,\u001b[0m \u001b[0mstd3\u001b[0m\u001b[0;34m)\u001b[0m\u001b[0;34m\u001b[0m\u001b[0;34m\u001b[0m\u001b[0m\n\u001b[1;32m     16\u001b[0m \u001b[0mf\u001b[0m \u001b[0;34m=\u001b[0m \u001b[0mplt\u001b[0m\u001b[0;34m.\u001b[0m\u001b[0mfigure\u001b[0m\u001b[0;34m(\u001b[0m\u001b[0mfigsize\u001b[0m\u001b[0;34m=\u001b[0m\u001b[0;34m(\u001b[0m\u001b[0;36m12\u001b[0m\u001b[0;34m,\u001b[0m\u001b[0;36m3\u001b[0m\u001b[0;34m)\u001b[0m\u001b[0;34m)\u001b[0m\u001b[0;34m\u001b[0m\u001b[0;34m\u001b[0m\u001b[0m\n",
            "\u001b[0;32m<ipython-input-32-c6152290cf77>\u001b[0m in \u001b[0;36mfun_20221_p02_02\u001b[0;34m(data, y)\u001b[0m\n\u001b[1;32m     28\u001b[0m         \u001b[0mpred3\u001b[0m \u001b[0;34m=\u001b[0m \u001b[0mest3\u001b[0m\u001b[0;34m.\u001b[0m\u001b[0mpredict\u001b[0m\u001b[0;34m(\u001b[0m\u001b[0mX_train\u001b[0m\u001b[0;34m)\u001b[0m\u001b[0;34m\u001b[0m\u001b[0;34m\u001b[0m\u001b[0m\n\u001b[1;32m     29\u001b[0m \u001b[0;34m\u001b[0m\u001b[0m\n\u001b[0;32m---> 30\u001b[0;31m         \u001b[0mscore1\u001b[0m\u001b[0;34m.\u001b[0m\u001b[0mappend\u001b[0m\u001b[0;34m(\u001b[0m\u001b[0mdata\u001b[0m\u001b[0;34m(\u001b[0m\u001b[0;34m[\u001b[0m\u001b[0mtest_index\u001b[0m\u001b[0;34m]\u001b[0m\u001b[0;34m,\u001b[0m\u001b[0my\u001b[0m\u001b[0;34m[\u001b[0m\u001b[0mtest_index\u001b[0m\u001b[0;34m]\u001b[0m\u001b[0;34m,\u001b[0m \u001b[0mpred1\u001b[0m\u001b[0;34m)\u001b[0m\u001b[0;34m)\u001b[0m\u001b[0;34m\u001b[0m\u001b[0;34m\u001b[0m\u001b[0m\n\u001b[0m\u001b[1;32m     31\u001b[0m         \u001b[0mscore2\u001b[0m\u001b[0;34m.\u001b[0m\u001b[0mappend\u001b[0m\u001b[0;34m(\u001b[0m\u001b[0mdata\u001b[0m\u001b[0;34m(\u001b[0m\u001b[0;34m[\u001b[0m\u001b[0mtest_index\u001b[0m\u001b[0;34m]\u001b[0m\u001b[0;34m,\u001b[0m\u001b[0my\u001b[0m\u001b[0;34m[\u001b[0m\u001b[0mtest_index\u001b[0m\u001b[0;34m]\u001b[0m\u001b[0;34m,\u001b[0m \u001b[0mpred2\u001b[0m\u001b[0;34m)\u001b[0m\u001b[0;34m)\u001b[0m\u001b[0;34m\u001b[0m\u001b[0;34m\u001b[0m\u001b[0m\n\u001b[1;32m     32\u001b[0m         \u001b[0mscore3\u001b[0m\u001b[0;34m.\u001b[0m\u001b[0mappend\u001b[0m\u001b[0;34m(\u001b[0m\u001b[0mdata\u001b[0m\u001b[0;34m(\u001b[0m\u001b[0;34m[\u001b[0m\u001b[0mtest_index\u001b[0m\u001b[0;34m]\u001b[0m\u001b[0;34m,\u001b[0m\u001b[0my\u001b[0m\u001b[0;34m[\u001b[0m\u001b[0mtest_index\u001b[0m\u001b[0;34m]\u001b[0m\u001b[0;34m,\u001b[0m \u001b[0mpred3\u001b[0m\u001b[0;34m)\u001b[0m\u001b[0;34m)\u001b[0m\u001b[0;34m\u001b[0m\u001b[0;34m\u001b[0m\u001b[0m\n",
            "\u001b[0;31mTypeError\u001b[0m: 'numpy.ndarray' object is not callable"
          ]
        }
      ]
    },
    {
      "cell_type": "markdown",
      "metadata": {
        "id": "wypZL8_i71bV"
      },
      "source": [
        "<br><br><br>"
      ]
    },
    {
      "cell_type": "markdown",
      "metadata": {
        "id": "esrpT9HjNo5k"
      },
      "source": [
        "# **Ejercicio 3. Regresión**  <a name=\"eje3\"></a>\n",
        "\n",
        "Vamos a hacer una función que explore los regresores **`DecisionTreeRegressor`, `RandomForestClassifier`** y **`SVR`** para el dataset Stroke, realizando lo siguiente: \n",
        "\n",
        "- Utilizar **solamente** las características: `avg_glucose_level`, `hypertension`, `smoking_status`\n",
        "\n",
        "- La característica `bmi` (Body mass index) será el objetivo de la primera regresión\n",
        "\n",
        "- El 70% del dataset se utilizará como train `X_train`, `y_train`\n",
        "\n",
        "- El 30% del dataset restante se utilizará como test: `X_test`, `y_test`\n",
        "\n",
        "- Realice una exploración para los regresores: **`DecisionTreeRegressor(random_state=21)`, `RandomForestRegressor(random_state=21)`** y **`SVR(kernel='rbf')`**\n",
        "\n",
        "- Devuelva **una lista** `scores` con el valor del **mean squared error (MSE)** para cada uno de los tres regresores.\n",
        "\n",
        "- Devuelva **una lista** `predictions` con las predicciones para cada uno de los tres regresores.<br><br>\n",
        "\n",
        "\n",
        "<b>Referencia Decision Tree Regressor:</b> https://scikit-learn.org/stable/modules/generated/sklearn.tree.DecisionTreeRegressor.html<br>\n",
        "<b>Referencia Random Forest Regressor:</b> https://scikit-learn.org/stable/modules/generated/sklearn.ensemble.RandomForestRegressor.html<br>\n",
        "<b>Referencia Support Vector Regression:</b> https://scikit-learn.org/stable/modules/generated/sklearn.svm.SVR.html<br>\n",
        "<b>Referencia mean_squared_error:</b> \n",
        "https://scikit-learn.org/stable/modules/generated/sklearn.metrics.mean_squared_error.html<br><br>"
      ]
    },
    {
      "cell_type": "code",
      "source": [
        "#@title **code student**\n",
        "def fun_20221_p02_03(data):\n",
        "    from sklearn.tree import DecisionTreeRegressor\n",
        "    from sklearn.ensemble import RandomForestRegressor\n",
        "    from sklearn.svm import SVR\n",
        "    from sklearn.metrics import mean_squared_error\n",
        "    import numpy as np\n",
        "    import pandas as pd\n",
        "    np.random.seed(21)\n",
        "\n",
        "    X = data[['avg_glucose_level', 'hypertension', 'smoking_status']]\n",
        "    y = data['bmi']\n",
        "    \n",
        "    X_train = X[:int((len(X))*0.7)]\n",
        "    y_train = y[:int((len(X))*0.7)]\n",
        "    X_test = X[int((len(X))*0.7):]\n",
        "    y_test = y[int((len(X))*0.7):]\n",
        "\n",
        "    regressors = []\n",
        "    regressors.append(DecisionTreeRegressor(random_state=21))\n",
        "    regressors.append(RandomForestRegressor(random_state=21))\n",
        "    regressors.append(SVR(kernel='rbf'))\n",
        "\n",
        "    scores = []\n",
        "    predictions = []\n",
        "\n",
        "    for i in regressors:\n",
        "        i.fit(X_train, y_train)\n",
        "        p = i.predict(X_test)\n",
        "        scores.append(mean_squared_error(y_test,p))\n",
        "        predictions.append(p)\n",
        "\n",
        "    return scores, predictions"
      ],
      "metadata": {
        "id": "ByuxbE7yyE4E"
      },
      "execution_count": 74,
      "outputs": []
    },
    {
      "cell_type": "code",
      "metadata": {
        "id": "bGDp3vVbONRm",
        "colab": {
          "base_uri": "https://localhost:8080/",
          "height": 229
        },
        "outputId": "a51c8c12-c949-4bed-d2f1-279c2357a4db"
      },
      "source": [
        "#@title **check your answer**\n",
        "import numpy as np\n",
        "import pandas as pd\n",
        "import matplotlib.pyplot as plt\n",
        "from sklearn.utils import shuffle\n",
        "np.random.seed(21)\n",
        "\n",
        "X = pd.read_csv(\"https://gitlab.com/bivl2ab/academico/cursos-uis/ai/ai-uis-student/-/raw/master/data/stroke.csv\", header=0)\n",
        "X = shuffle(X)\n",
        "scores, predictions = fun_20221_p02_03(X)\n",
        "\n",
        "f = plt.figure(figsize=(12,3))\n",
        "f.subplots_adjust(wspace=0.5)\n",
        "\n",
        "ax1 = f.add_subplot(121)\n",
        "ax1.set_title('Using 3 columns')\n",
        "ax1.bar(range(0,len(scores)), scores)\n",
        "ax1.set_xticks(range(0,len(scores)))\n",
        "ax1.set_xticklabels(('DT', 'RF', 'SVM'))\n",
        "ax1.set_ylabel('MSE')\n",
        "ax1.text(-0.3, 2.5, str(scores[0])[:8])\n",
        "ax1.text(0.72, 2.5, str(scores[1])[:8])\n",
        "ax1.text(1.72, 2.5, str(scores[2])[:8])\n",
        "plt.show()"
      ],
      "execution_count": 75,
      "outputs": [
        {
          "output_type": "display_data",
          "data": {
            "text/plain": [
              "<Figure size 864x216 with 1 Axes>"
            ],
            "image/png": "[encoded data removed]"
          },
          "metadata": {}
        }
      ]
    },
    {
      "cell_type": "code",
      "metadata": {
        "id": "2lPhXeu-yRzn",
        "colab": {
          "base_uri": "https://localhost:8080/"
        },
        "outputId": "fdfebdde-af84-44e2-f944-2fbe9e27d656"
      },
      "source": [
        "#@title **send your answer**\n",
        "student_func_str = inspect.getsource(fun_20221_p02_03)\n",
        "r = check_solution_and_evaluate(assignment_id, student_func_str) "
      ],
      "execution_count": 76,
      "outputs": [
        {
          "output_type": "stream",
          "name": "stdout",
          "text": [
            "Score\n",
            "\t5\n",
            "Message\n",
            "\tWell done. You got the highest score.\n",
            "Status\n",
            "\tYou have achieved your best score: 5\n"
          ]
        }
      ]
    },
    {
      "cell_type": "markdown",
      "metadata": {
        "id": "PvILetPViqi6"
      },
      "source": [
        "<br><br><br>"
      ]
    },
    {
      "cell_type": "markdown",
      "metadata": {
        "id": "dLlBw2Pu-nj2"
      },
      "source": [
        "# **Ejercicio 4. DNN**  <a name=\"eje4\"></a>\n",
        "\n",
        "\n",
        "El dataset **Free Spoken Digit Dataset (FSDD)** contiene grabaciones de audio de 4 personas diferentes (\"jackson\", \"nicolas\", \"theo\", \"yweweler\"), pronunciando 50 veces cada uno de los números dígitos (números del 0 al 9).<br>\n",
        "\n",
        "a) En el siguiente ejercicio usted deberá utilizar las grabaciones correspondientes a los números dígitos 1, 2, 3, 4, 5 y 6 para entrenar. Y deberá usar las grabaciones de los dígitos 7 y 8 para validación. Para ello, modifique la función `getFiles` de manera que guarde los nombres de archivo para entrenamiento o para validación en una lista.<br>La función debe **devolver** esa lista.<br>\n",
        "\n",
        "b) También deberá modificar la función `subjectToNumber` para que codifique los nombres de las personas de la siguiente forma: \n",
        "  - \"jackson\": 0<br>\n",
        "  - \"nicolas\": 1<br>\n",
        "  - \"theo\": 2<br>\n",
        "  - \"yweweler\": 3<br>\n",
        "\n",
        "Esta función debe **devolver** el número que codifica al nombre que se le ingrese.\n",
        "\n",
        "<br>**Nota:** NO modifique la función `get_XyData`<br><br>\n",
        "\n",
        "c) Posteriormente, escriba un bloque secuencial de código (**es decir, NO escriba una función**) que: \n",
        "\n",
        "- Utilice las particiones de entrenamiento y test proporcionadas (`X_train`, `X_test`, `y_train`, `y_test`). \n",
        "\n",
        "- Haga una red DNN, que reciba como entrada las muestras del dataset y tenga como salida el número relacionado con las clases del dataset (los sujetos o personas que pronuncian cada dígito).\n",
        "\n",
        "- Asigne el número de clases a la variable `nc` de forma dinámica (**obténgalo**, no le asigne un número manualmente)\n",
        "\n",
        "- Recuerde utilizar one-hot-encoding\n",
        "\n",
        "- Se deben crear:\n",
        " - Para la capa de entrada, utilice las dimensiones del primer dato de entrenamiento para el parámetro `input_shape`\n",
        " - Una capa oculta, Densa, con 128 neuronas y función de activación `relu`\n",
        " - Una capa oculta, Densa, con 64 neuronas y función de activación `relu`\n",
        " - Una capa oculta, Densa, con 32 neuronas y función de activación `relu`\n",
        "\n",
        "- Compile el modelo con: `optimizer=tf.keras.optimizers.SGD()`, `loss='categorical_crossentropy'` y `metrics=['accuracy']`\n",
        "\n",
        "- Entrene el modelo con la configuración: `epochs=40`\n",
        "\n",
        "- Cree una **variable** `model` que contenga el modelo `DNN`\n",
        "\n",
        "- Cree una **variable** `preds` con las predicciones para la partición de testing. Recuerde que la función de activación softmax devuelve varios números y se esta pidiendo **una** predicción (es decir, **un** solo número).\n",
        "<br><br>\n",
        "\n"
      ]
    },
    {
      "cell_type": "code",
      "source": [
        "#@title **Code student**\n",
        "import os\n",
        "import librosa\n",
        "import numpy as np\n",
        "\n",
        "def func_padding(wav, pad_size=2000):\n",
        "    if wav.shape[0] > pad_size:\n",
        "        return wav[0: pad_size]\n",
        "    else:\n",
        "        return np.hstack((wav, np.zeros(pad_size - wav.shape[0])))\n",
        "\n",
        "def getFiles(DATA_DIR, stage):\n",
        "    files = None\n",
        "    for i in os.listdir(DATA_DIR):\n",
        "        num = None\n",
        "        if stage==\"train\":\n",
        "            if None:\n",
        "                files.None\n",
        "        else:\n",
        "            if None:\n",
        "                files.None\n",
        "    return files\n",
        "\n",
        "def subjectToNumber(subject):\n",
        "    if None:\n",
        "        None\n",
        "    if None:\n",
        "        None\n",
        "    if None:\n",
        "        None\n",
        "    if None:\n",
        "        None\n",
        "    return num\n",
        "\n",
        "def get_XyData(DATA_DIR):\n",
        "    X_train = []\n",
        "    X_test = []\n",
        "    y_train = []\n",
        "    y_test = []\n",
        "    print(\"obtaining train files...\")\n",
        "    files_train = getFiles(DATA_DIR, \"train\")\n",
        "    print(\"obtaining test files...\")\n",
        "    files_test = getFiles(DATA_DIR, \"test\")\n",
        "    print(\"loading train files...\")\n",
        "    for fname in files_train:\n",
        "        y_train.append(subjectToNumber(fname.split('_')[1]))\n",
        "        wav, _ = librosa.load(DATA_DIR + fname)\n",
        "        D = librosa.feature.melspectrogram(wav)\n",
        "        padded = func_padding(D.reshape(D.shape[0]*D.shape[1]))\n",
        "        X_train.append(padded)\n",
        "    print(\"loading test files...\")\n",
        "    for fname in files_test:\n",
        "        y_test.append(subjectToNumber(fname.split('_')[1]))\n",
        "        wav, _ = librosa.load(DATA_DIR + fname)\n",
        "        D = librosa.feature.melspectrogram(wav)\n",
        "        padded = func_padding(D.reshape(D.shape[0]*D.shape[1]))\n",
        "        X_test.append(padded)\n",
        "\n",
        "    return np.vstack(X_train), np.array(y_train), np.vstack(X_test), np.array(y_test)\n",
        "\n",
        "DATA_DIR = '/content/drive/My Drive/quiz02/fsdd/'\n",
        "X_train, y_train, X_test, y_test = get_XyData(DATA_DIR)\n",
        "\n",
        "print('X_train:', X_train.shape)\n",
        "print('y_train:', y_train.shape)\n",
        "print('X_test:', X_test.shape)\n",
        "print('y_test:', y_test.shape)\n",
        "print('Done. Please continue.')"
      ],
      "metadata": {
        "id": "TIo_DhQ7NxY_"
      },
      "execution_count": null,
      "outputs": []
    },
    {
      "cell_type": "code",
      "source": [
        "#@title **Code student** <br>Recuerde: **NO** escriba una función.<br>Recuerde: las variables a calcular **deben llamarse** `model` y `preds`\n",
        "import numpy as np\n",
        "import tensorflow as tf\n",
        "from tensorflow import keras\n",
        "tf.random.set_seed(21)\n",
        "np.random.seed(21)\n",
        "\n",
        "nc = None\n",
        "\n",
        "y_train_ohe = tf.keras.utils.None(None, num_classes=None)\n",
        "y_test_ohe = tf.keras.utils.None(None, num_classes=None)\n",
        "\n",
        "model = None([\n",
        "    None,\n",
        "    None,\n",
        "    None,\n",
        "    None,\n",
        "    None\n",
        "])\n",
        "\n",
        "model.None(None, None, None)\n",
        "model.None(None, None, None)\n",
        "\n",
        "test_loss, test_acc = model.None(None, None)\n",
        "\n",
        "probs = model.None(None)\n",
        "preds = np.None(probs, axis=1)"
      ],
      "metadata": {
        "id": "mXrkDMULzeB6"
      },
      "execution_count": null,
      "outputs": []
    },
    {
      "cell_type": "code",
      "source": [
        "#@title **check and send your answer**\n",
        "send_results_fun_20221_p02_04(model)"
      ],
      "metadata": {
        "id": "zpoBKY4Azxki"
      },
      "execution_count": null,
      "outputs": []
    },
    {
      "cell_type": "markdown",
      "metadata": {
        "id": "PmLayRvDjPlo"
      },
      "source": [
        "<br><br><br>"
      ]
    },
    {
      "cell_type": "markdown",
      "metadata": {
        "id": "_q0OIsBqNo6i"
      },
      "source": [
        "---\n",
        "<img src=\"https://gitlab.com/bivl2ab/academico/cursos-uis/ai/ai-uis-student/raw/master/imgs/bannerThanks.jpg\" alt=\"Drawing\" style=\"width:700px;\"/>"
      ]
    }
  ]
}