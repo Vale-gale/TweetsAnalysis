{
  "cells": [
    {
      "cell_type": "code",
      "source": [
        "!pip install nltk"
      ],
      "metadata": {
        "id": "j5l9MYF0sKUJ"
      },
      "execution_count": null,
      "outputs": []
    },
    {
      "cell_type": "code",
      "source": [
        "import pandas as pd\n",
        "import numpy\n",
        "import random\n",
        "import nltk\n",
        "import re\n",
        "from nltk.corpus import stopwords\n",
        "from nltk.stem import SnowballStemmer\n",
        "import pandas as pd\n",
        "import numpy as np\n",
        "import tensorflow as tf\n",
        "from tensorflow import keras\n",
        "from tensorflow.keras import layers\n",
        "from sklearn.model_selection import train_test_split\n",
        "nltk.download('stopwords')\n",
        "nltk.download('punkt')"
      ],
      "metadata": {
        "colab": {
          "base_uri": "https://localhost:8080/"
        },
        "id": "8H6kqS0Z_b9I",
        "outputId": "4d5ac198-378d-4c84-cc28-9595deac785a"
      },
      "execution_count": 2,
      "outputs": [
        {
          "output_type": "stream",
          "name": "stderr",
          "text": [
            "[nltk_data] Downloading package stopwords to /root/nltk_data...\n",
            "[nltk_data]   Unzipping corpora/stopwords.zip.\n",
            "[nltk_data] Downloading package punkt to /root/nltk_data...\n",
            "[nltk_data]   Unzipping tokenizers/punkt.zip.\n"
          ]
        },
        {
          "output_type": "execute_result",
          "data": {
            "text/plain": [
              "True"
            ]
          },
          "metadata": {},
          "execution_count": 2
        }
      ]
    },
    {
      "cell_type": "code",
      "execution_count": 7,
      "metadata": {
        "colab": {
          "base_uri": "https://localhost:8080/"
        },
        "id": "-54dlY0NnrrM",
        "outputId": "2a0252dc-2896-4e69-92d1-25a3f6667e67"
      },
      "outputs": [
        {
          "output_type": "stream",
          "name": "stdout",
          "text": [
            "Mounted at /content/drive\n"
          ]
        }
      ],
      "source": [
        "from google.colab import drive\n",
        "drive.mount('/content/drive')"
      ]
    },
    {
      "cell_type": "code",
      "execution_count": 12,
      "metadata": {
        "id": "ZoA2nE-goPt9"
      },
      "outputs": [],
      "source": [
        "# crear un nuevo df solo con las columnas 'text' y 'sentiment'\n",
        "df = pd.read_csv('/content/drive/MyDrive/Tweets.csv')\n",
        "new_df = df[['text', 'sentiment']]\n",
        "new_df.to_csv('/content/drive/MyDrive/new_file.csv', index=False)\n"
      ]
    },
    {
      "cell_type": "code",
      "execution_count": null,
      "metadata": {
        "id": "H2hKvjayoV_5"
      },
      "outputs": [],
      "source": [
        "new_df.dropna(inplace=True)\n",
        "new_df.to_csv('/content/drive/MyDrive/new_file_clean.csv', index=False)"
      ]
    },
    {
      "cell_type": "code",
      "execution_count": 17,
      "metadata": {
        "id": "ZY0HJFpWoYoQ"
      },
      "outputs": [],
      "source": [
        "labeled_data = []\n",
        "\n",
        "for i, row in new_df.iterrows():\n",
        "    text = row['text']\n",
        "    sentiment = row['sentiment']\n",
        "\n",
        "    if sentiment == 'positive':\n",
        "        label = 1\n",
        "    elif sentiment == 'negative':\n",
        "        label = -1\n",
        "    else:\n",
        "        label = 0\n",
        "\n",
        "    labeled_data.append((text, label))\n",
        "\n",
        "with open('/content/drive/MyDrive/labeled_data.csv', 'w') as file:\n",
        "    for data in labeled_data:\n",
        "        file.write(f'{data[0]};{data[1]}\\n')\n"
      ]
    },
    {
      "cell_type": "code",
      "execution_count": 20,
      "metadata": {
        "id": "wqWakKk0oaKV"
      },
      "outputs": [],
      "source": [
        "# dividir los datos etiquetados en conjuntos de entrenamiento y prueba (80-20)\n",
        "with open('/content/drive/MyDrive/labeled_data.csv', 'r') as file:\n",
        "    data = file.readlines()\n",
        "\n",
        "random.shuffle(data)\n",
        "\n",
        "train_data = data[:int(0.8 * len(data))]\n",
        "test_data = data[int(0.8 * len(data)):]\n",
        "\n",
        "with open('/content/drive/MyDrive/train_data.csv', 'w') as file:\n",
        "    for data in train_data:\n",
        "        file.write(data)\n",
        "\n",
        "with open('/content/drive/MyDrive/test_data.csv', 'w') as file:\n",
        "    for data in test_data:\n",
        "        file.write(data)\n"
      ]
    },
    {
      "cell_type": "markdown",
      "metadata": {
        "id": "XmpV-XsVpC3_"
      },
      "source": [
        "Con este código se crea un nuevo archivo csv con los datos etiquetados, limpios y divididos en conjuntos de entrenamiento y prueba, listos para ser utilizados para entrenar y evaluar."
      ]
    },
    {
      "cell_type": "code",
      "source": [
        "import pandas as pd\n",
        "from sklearn.feature_extraction.text import TfidfVectorizer\n",
        "from sklearn.model_selection import train_test_split\n",
        "from sklearn.svm import LinearSVC\n",
        "from sklearn.metrics import classification_report\n",
        "from sklearn.metrics import confusion_matrix\n",
        "import matplotlib.pyplot as plt\n",
        "import seaborn as sns"
      ],
      "metadata": {
        "id": "quN5NlhQEO91"
      },
      "execution_count": 80,
      "outputs": []
    },
    {
      "cell_type": "code",
      "execution_count": null,
      "metadata": {
        "id": "mBqlHF4ipTZQ"
      },
      "outputs": [],
      "source": [
        "#Cargar datos de entrenamiento y prueba\n",
        "\n",
        "train_df = pd.read_excel('/content/drive/MyDrive/train_data.xlsx', names=['text', 'label'])\n",
        "test_df = pd.read_excel('/content/drive/MyDrive/test_data.xlsx', names=['text', 'label'])\n",
        "\n",
        "print(train_df.head())\n",
        "print(test_df.head())"
      ]
    },
    {
      "cell_type": "code",
      "source": [
        "vectorizer = TfidfVectorizer(stop_words='english', ngram_range=(1, 2))\n",
        "\n",
        "X_train = vectorizer.fit_transform(train_df['text'])\n",
        "y_train = train_df['label']\n",
        "\n",
        "X_test = vectorizer.transform(test_df['text'])\n",
        "y_test = test_df['label']"
      ],
      "metadata": {
        "id": "1UKsc2ulEcAM"
      },
      "execution_count": 77,
      "outputs": []
    },
    {
      "cell_type": "code",
      "source": [
        "model = LinearSVC()\n",
        "model.fit(X_train, y_train)"
      ],
      "metadata": {
        "id": "7mmzcj3VEfaa"
      },
      "execution_count": null,
      "outputs": []
    },
    {
      "cell_type": "code",
      "source": [
        "y_pred = model.predict(X_test)\n",
        "\n",
        "print(classification_report(y_test, y_pred))"
      ],
      "metadata": {
        "id": "hsVkz42OEky9"
      },
      "execution_count": null,
      "outputs": []
    },
    {
      "cell_type": "code",
      "source": [
        "# Obtener la matriz de confusión\n",
        "cm = confusion_matrix(y_test, y_pred)\n",
        "fig, ax = plt.subplots(figsize=(8, 8))\n",
        "\n",
        "sns.heatmap(cm, annot=True, cmap='Blues', fmt='d', ax=ax)\n",
        "ax.set_xlabel('Predicted Labels')\n",
        "ax.set_ylabel('True Labels')\n",
        "ax.set_title('Confusion Matrix')\n"
      ],
      "metadata": {
        "id": "N3PpYHMWFEm8"
      },
      "execution_count": null,
      "outputs": []
    },
    {
      "cell_type": "code",
      "source": [
        "import pandas as pd\n",
        "import numpy as np\n",
        "import re\n",
        "import nltk\n",
        "from sklearn.feature_extraction.text import CountVectorizer, TfidfTransformer\n",
        "from sklearn.model_selection import train_test_split\n",
        "from sklearn.pipeline import Pipeline\n",
        "from sklearn.svm import LinearSVC\n",
        "from sklearn.metrics import accuracy_score, confusion_matrix, classification_report\n",
        "from nltk.corpus import stopwords"
      ],
      "metadata": {
        "id": "w8Fgr0CGyge7"
      },
      "execution_count": null,
      "outputs": []
    },
    {
      "cell_type": "code",
      "source": [
        "train_df = pd.read_excel('/content/drive/MyDrive/train_data.xlsx', names=['text', 'label'])\n",
        "test_df = pd.read_excel('/content/drive/MyDrive/test_data.xlsx', names=['text', 'label'])\n",
        "print(train_df.head())\n",
        "print(test_df.head())"
      ],
      "metadata": {
        "id": "deD0ddOLyiMU"
      },
      "execution_count": null,
      "outputs": []
    },
    {
      "cell_type": "code",
      "source": [
        "import nltk\n",
        "nltk.download('stopwords')\n",
        "\n",
        "def clean_text(text):\n",
        "    text = re.sub(r'[^\\w\\s]', '', text) \n",
        "    text = re.sub(r'@\\w+', '', text) \n",
        "    text = re.sub(r'http\\S+', '', text) \n",
        "    text = ' '.join(word for word in text.split() if word not in stopwords.words('english'))\n",
        "    return text\n",
        "\n",
        "train_df['text'] = train_df['text'].apply(clean_text)\n",
        "test_df['text'] = test_df['text'].apply(clean_text)\n"
      ],
      "metadata": {
        "colab": {
          "base_uri": "https://localhost:8080/"
        },
        "id": "ZY-C079fykMS",
        "outputId": "155126fd-cb6d-450a-ac3e-3a7a26ced880"
      },
      "execution_count": 27,
      "outputs": [
        {
          "output_type": "stream",
          "name": "stderr",
          "text": [
            "[nltk_data] Downloading package stopwords to /root/nltk_data...\n",
            "[nltk_data]   Package stopwords is already up-to-date!\n"
          ]
        }
      ]
    },
    {
      "cell_type": "code",
      "source": [
        "vectorizer = CountVectorizer()\n",
        "X_train = vectorizer.fit_transform(train_df['text'])\n",
        "X_test = vectorizer.transform(test_df['text'])\n",
        "X_train\n",
        "# Aquí cree una representación numerica para el conjunto de texto"
      ],
      "metadata": {
        "colab": {
          "base_uri": "https://localhost:8080/"
        },
        "id": "Cav0Sp9-yq_t",
        "outputId": "44185d15-2d28-4375-abb6-ceb9f8575688"
      },
      "execution_count": 12,
      "outputs": [
        {
          "output_type": "execute_result",
          "data": {
            "text/plain": [
              "<21979x24458 sparse matrix of type '<class 'numpy.int64'>'\n",
              "\twith 161163 stored elements in Compressed Sparse Row format>"
            ]
          },
          "metadata": {},
          "execution_count": 12
        }
      ]
    },
    {
      "cell_type": "code",
      "source": [
        "tfidf_transformer = TfidfTransformer() # ponderaciones tf-idf. Term Frequency-Inverse Document Frequency\n",
        "X_train_tfidf = tfidf_transformer.fit_transform(X_train)\n",
        "X_test_tfidf = tfidf_transformer.transform(X_test)"
      ],
      "metadata": {
        "id": "3NW-xq9Xy2fO"
      },
      "execution_count": 13,
      "outputs": []
    },
    {
      "cell_type": "code",
      "source": [
        "svm = LinearSVC()\n",
        "svm.fit(X_train_tfidf, train_df['label'])"
      ],
      "metadata": {
        "id": "iq41pPCBy5ZO"
      },
      "execution_count": null,
      "outputs": []
    },
    {
      "cell_type": "code",
      "source": [
        "y_pred = svm.predict(X_test_tfidf)\n",
        "print('Accuracy:', accuracy_score(test_df['label'], y_pred))\n",
        "print('Matriz de confusión:\\n', confusion_matrix(test_df['label'], y_pred))\n",
        "print('Classification report:\\n', classification_report(test_df['label'], y_pred))"
      ],
      "metadata": {
        "id": "avV1QvoHy7Kv"
      },
      "execution_count": null,
      "outputs": []
    },
    {
      "cell_type": "code",
      "source": [
        "# Entrenar modelo\n",
        "from sklearn.feature_extraction.text import TfidfVectorizer\n",
        "from sklearn.linear_model import LogisticRegression\n",
        "from sklearn.metrics import confusion_matrix\n",
        "\n",
        "vectorizer = TfidfVectorizer(stop_words='english')\n",
        "X_train = vectorizer.fit_transform(train_df['text'])\n",
        "y_train = train_df['label']\n",
        "\n",
        "model = LogisticRegression()\n",
        "model.fit(X_train, y_train)\n",
        "\n",
        "X_test = vectorizer.transform(test_df['text'])\n",
        "y_test = test_df['label']\n",
        "\n",
        "y_pred = model.predict(X_test)\n",
        "\n",
        "\n",
        "conf_matrix = confusion_matrix(y_test, y_pred) # matriz de confusión\n",
        "print(conf_matrix)"
      ],
      "metadata": {
        "id": "PDTsDTHC23Na"
      },
      "execution_count": null,
      "outputs": []
    },
    {
      "cell_type": "code",
      "source": [
        "import seaborn as sns\n",
        "sns.heatmap(conf_matrix, annot=True, fmt='d', cmap='Blues')\n",
        "\n",
        "plt.xlabel('Predicción')\n",
        "plt.ylabel('Real')\n",
        "plt.xticks([0.5, 1.5, 2.5], ['Negative', 'Neutral', 'Positive'])\n",
        "plt.yticks([0.5, 1.5, 2.5], ['Negative', 'Neutral', 'Positive'])\n",
        "\n",
        "plt.title('Matriz de confusión')\n",
        "plt.show()"
      ],
      "metadata": {
        "colab": {
          "base_uri": "https://localhost:8080/",
          "height": 295
        },
        "id": "aAOQ4P263Xha",
        "outputId": "2f2cfa98-614a-4f72-d959-8d1b5bdad6ac"
      },
      "execution_count": 53,
      "outputs": [
        {
          "output_type": "display_data",
          "data": {
            "text/plain": [
              "<Figure size 432x288 with 2 Axes>"
            ],
            "image/png": "[encoded data removed]"
          },
          "metadata": {
            "needs_background": "light"
          }
        }
      ]
    },
    {
      "cell_type": "code",
      "source": [
        "import matplotlib.pyplot as plt\n",
        "positive_count = test_df[test_df['label'] == 1]['label'].count()\n",
        "negative_count = test_df[test_df['label'] == -1]['label'].count()\n",
        "neutral_count = test_df[test_df['label'] == 0]['label'].count()\n",
        "\n",
        "\n",
        "total_count = len(test_df)\n",
        "positive_percent = positive_count / total_count * 100\n",
        "negative_percent = negative_count / total_count * 100\n",
        "neutral_percent = neutral_count / total_count * 100\n",
        "\n",
        "labels = ['Positivo', 'Negativo', 'Neutral']\n",
        "values = [positive_count, negative_count, neutral_count]\n",
        "colors = ['#2ecc71', '#e74c3c', '#95a5a6'] #verde, rojo, gris\n",
        "explode = [0.1, 0, 0]\n",
        "\n",
        "plt.pie(values, labels=labels, colors=colors, explode=explode, autopct='%1.1f%%')\n",
        "plt.title('Sentimientos en tweets')\n",
        "plt.suptitle(f'Total de tweets: {total_count}')\n",
        "plt.legend(title='Sentimientos', loc='center left', bbox_to_anchor=(1, 0.5))\n",
        "\n",
        "plt.show()"
      ],
      "metadata": {
        "id": "hv3NkAK71Rr4"
      },
      "execution_count": null,
      "outputs": []
    },
    {
      "cell_type": "code",
      "source": [
        "plt.bar(labels, values)\n",
        "\n",
        "plt.title('Conteo de sentimientos')\n",
        "plt.xlabel('Sentimientos')\n",
        "plt.ylabel('Conteo')\n",
        "\n",
        "plt.show()"
      ],
      "metadata": {
        "id": "ctxL3sid10SL"
      },
      "execution_count": null,
      "outputs": []
    },
    {
      "cell_type": "markdown",
      "source": [
        "###Nuevo\n",
        "Utilizar la clase Pipeline de scikit-learn para construir un flujo de trabajo de procesamiento de texto y clasificación.\n",
        "\n",
        "* CountVectorizer()\n",
        "* TfidfTransformer()\n",
        "* MultinomialNB()"
      ],
      "metadata": {
        "id": "oZmm8B8q5p3q"
      }
    },
    {
      "cell_type": "code",
      "source": [
        "#@title import\n",
        "import pandas as pd\n",
        "import numpy as np\n",
        "from sklearn.feature_extraction.text import CountVectorizer\n",
        "from sklearn.feature_extraction.text import TfidfTransformer\n",
        "from sklearn.naive_bayes import MultinomialNB\n",
        "from sklearn.pipeline import Pipeline\n",
        "from nltk.corpus import stopwords\n",
        "from nltk.stem.porter import PorterStemmer"
      ],
      "metadata": {
        "cellView": "form",
        "id": "Tpsnol3w66YS"
      },
      "execution_count": 9,
      "outputs": []
    },
    {
      "cell_type": "code",
      "source": [
        "train_df = pd.read_excel('/content/drive/MyDrive/train_data.xlsx', names=['text', 'label'])\n",
        "test_df = pd.read_excel('/content/drive/MyDrive/test_data.xlsx', names=['text', 'label'])\n",
        "print(train_df.head())\n",
        "print(test_df.head())"
      ],
      "metadata": {
        "id": "r_q3ojoG5qnC"
      },
      "execution_count": null,
      "outputs": []
    },
    {
      "cell_type": "code",
      "source": [
        "import nltk\n",
        "nltk.download('stopwords')\n",
        "\n",
        "stemmer = PorterStemmer() #para reducir la palabra a su forma base\n",
        "stop_words = set(stopwords.words('english'))\n",
        "\n",
        "def preprocess_text(text):\n",
        "    text = text.lower()\n",
        "    text = re.sub('[^a-zA-Z]', ' ', text)\n",
        "    words = text.split()\n",
        "    words = [stemmer.stem(word) for word in words if word not in stop_words]\n",
        "    return \" \".join(words)\n",
        "\n",
        "train_df['text'] = train_df['text'].apply(preprocess_text)\n",
        "test_df['text'] = test_df['text'].apply(preprocess_text)\n"
      ],
      "metadata": {
        "colab": {
          "base_uri": "https://localhost:8080/"
        },
        "id": "D_VD8_T37B6W",
        "outputId": "25239e76-3fca-42bb-9737-73be3acb4ce9"
      },
      "execution_count": 10,
      "outputs": [
        {
          "output_type": "stream",
          "name": "stderr",
          "text": [
            "[nltk_data] Downloading package stopwords to /root/nltk_data...\n",
            "[nltk_data]   Package stopwords is already up-to-date!\n"
          ]
        }
      ]
    },
    {
      "cell_type": "code",
      "source": [
        "text_clf = Pipeline([    ('vect', CountVectorizer()),    ('tfidf', TfidfTransformer()),    ('clf', MultinomialNB()),])\n",
        "text_clf.fit(train_df['text'], train_df['label'])\n",
        "#modelo de clasificación Naive Bayes"
      ],
      "metadata": {
        "colab": {
          "base_uri": "https://localhost:8080/"
        },
        "id": "FSvPXGV77KDc",
        "outputId": "9e803f6e-0ce2-4877-8052-c0e44efea9e2"
      },
      "execution_count": 11,
      "outputs": [
        {
          "output_type": "execute_result",
          "data": {
            "text/plain": [
              "Pipeline(steps=[('vect', CountVectorizer()), ('tfidf', TfidfTransformer()),\n",
              "                ('clf', MultinomialNB())])"
            ]
          },
          "metadata": {},
          "execution_count": 11
        }
      ]
    },
    {
      "cell_type": "code",
      "source": [
        "accuracy = text_clf.score(test_df['text'], test_df['label'])\n",
        "print(\"Accuracy: {:.2f}%\".format(accuracy * 100))\n"
      ],
      "metadata": {
        "colab": {
          "base_uri": "https://localhost:8080/"
        },
        "id": "ibwonUB27L6K",
        "outputId": "946c53df-35e0-4e80-a295-a7c55da87254"
      },
      "execution_count": 12,
      "outputs": [
        {
          "output_type": "stream",
          "name": "stdout",
          "text": [
            "Accuracy: 74.69%\n"
          ]
        }
      ]
    }
  ],
  "metadata": {
    "colab": {
      "provenance": []
    },
    "kernelspec": {
      "display_name": "Python 3",
      "name": "python3"
    },
    "language_info": {
      "name": "python"
    },
    "accelerator": "GPU",
    "gpuClass": "standard"
  },
  "nbformat": 4,
  "nbformat_minor": 0
}