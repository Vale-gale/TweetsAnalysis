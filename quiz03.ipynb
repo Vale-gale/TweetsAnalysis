{
  "cells": [
    {
      "cell_type": "markdown",
      "metadata": {
        "id": "uGUEZRJxrUfA"
      },
      "source": [
        "<img src=\"https://gitlab.com/bivl2ab/academico/cursos-uis/ai/ai-uis-student/raw/master/imgs/banner_IA.png\"  width=\"1000px\" height=\"200px\">\n",
        "\n",
        "# **Parcial 03 - IA**\n",
        "\n",
        "## **Outline**\n",
        "\n",
        "1. [Ejercicio 1.](#eje1)\n",
        "2. [Ejercicio 2.](#eje2)\n",
        "3. [Ejercicio 3.](#eje3)\n",
        "4. [Ejercicio 4.](#eje4)"
      ]
    },
    {
      "cell_type": "code",
      "execution_count": 2,
      "metadata": {
        "colab": {
          "base_uri": "https://localhost:8080/",
          "height": 36
        },
        "id": "Eyzd86nGrLkv",
        "outputId": "caf80575-9e9e-4291-e1ea-95de95b8b620",
        "cellView": "form"
      },
      "outputs": [
        {
          "output_type": "execute_result",
          "data": {
            "text/plain": [
              "\"\\nPut your student ID here\\n\\nExample: student_id =  '2152145'\\n\""
            ],
            "application/vnd.google.colaboratory.intrinsic+json": {
              "type": "string"
            }
          },
          "metadata": {},
          "execution_count": 2
        }
      ],
      "source": [
        "#@title **Execute this cell**\n",
        "#@markdown Please include your student id\n",
        "import sys\n",
        "import inspect\n",
        "\n",
        "group_id = \"IA1-20221-H2\" #@param {type:\"string\"}\n",
        "assignment_id = group_id +'.parcial-3-20221'\n",
        "student_id = \"2182689\" #@param {type:\"string\"}\n",
        "\"\"\"\n",
        "Put your student ID here\n",
        "\n",
        "Example: student_id =  '2152145'\n",
        "\"\"\" "
      ]
    },
    {
      "cell_type": "code",
      "execution_count": 3,
      "metadata": {
        "id": "vF9FTR5Atp70",
        "cellView": "form"
      },
      "outputs": [],
      "source": [
        " #@title **Execute this cell**\n",
        "#@markdown **UTILS**\n",
        "#@markdown Please dont modify any line in this cell\n",
        "\n",
        "import os\n",
        "import json\n",
        "import requests\n",
        "from collections import namedtuple\n",
        "\n",
        "\n",
        "Config = namedtuple('Config', ['server_name'])\n",
        "config = Config(server_name='https://bivlabgrader.azurewebsites.net/api')\n",
        "\n",
        "\n",
        "def check_solution_and_evaluate(assignment_id: str, student_func_str: str):\n",
        "\n",
        "    # Set the endpoint and payload.\n",
        "    payload = {\n",
        "        'func_str': student_func_str,\n",
        "        'assignment_id': assignment_id,\n",
        "        'student_id': student_id\n",
        "    }\n",
        "    endpoint_url = config.server_name + '/CheckAndEvaluateSolution'\n",
        "    # print(endpoint_url)\n",
        "\n",
        "    # Make request to server with the data coming from the notebook.\n",
        "    r = requests.post(endpoint_url, params=payload)\n",
        "    pprint_json_response(r.json())\n",
        "    return r\n",
        "\n",
        "\n",
        "def pprint_json_response(response, indent=0):\n",
        "    \"\"\"Pretty print the response.\"\"\"\n",
        "    for key, value in response.items():\n",
        "        print('\\t' * indent + str(key.capitalize()))\n",
        "\n",
        "        # If dictionary, do a recurrent call.\n",
        "        if isinstance(value, dict):\n",
        "            pprint_json_response(value, indent + 1)\n",
        "        else:\n",
        "            # Enumerate elements if list.\n",
        "            if isinstance(value, list):\n",
        "                if len(value) == 1:\n",
        "                    print('\\t' * (indent + 1) + str(value[0]))\n",
        "                else:\n",
        "                    for i, e in enumerate(value, start=1):\n",
        "                        print('\\t' * (indent + 1) + f'{i}. {e}')\n",
        "            else:\n",
        "                print('\\t' * (indent + 1) + str(value))"
      ]
    },
    {
      "cell_type": "code",
      "execution_count": 4,
      "metadata": {
        "id": "KApJf0bWmI9A"
      },
      "outputs": [],
      "source": [
        "#@title **Import libraries**\n",
        "\n",
        "import numpy as np\n",
        "import random\n",
        "import pandas as pd\n",
        "import matplotlib.pyplot as plt"
      ]
    },
    {
      "cell_type": "code",
      "execution_count": 5,
      "metadata": {
        "id": "OMxnWMjW54xV",
        "colab": {
          "base_uri": "https://localhost:8080/"
        },
        "outputId": "493dda07-d2cf-4b61-c502-eb4f43baa4c6"
      },
      "outputs": [
        {
          "output_type": "stream",
          "name": "stdout",
          "text": [
            "Mounted at /content/drive\n",
            "/content/drive/My Drive/ai-uis-student\n"
          ]
        }
      ],
      "source": [
        "#@title **MONTAR EL DRIVE** { display-mode: \"form\" }\n",
        "import os\n",
        "from google.colab import drive\n",
        "\n",
        "path_ai = \"ai-uis-student\" #@param {type:\"string\"}\n",
        "path = \"/content/drive/My Drive/\" + path_ai\n",
        "drive.mount('/content/drive')\n",
        "os.chdir(path)\n",
        "print(os.getcwd())"
      ]
    },
    {
      "cell_type": "markdown",
      "metadata": {
        "id": "s1CoxfuNaSnl"
      },
      "source": [
        "# **Ejercicio 1. Unsupervised**  <a name=\"eje1\"></a>"
      ]
    },
    {
      "cell_type": "markdown",
      "metadata": {
        "id": "JNm6AqlLaSnn"
      },
      "source": [
        "Implemente una función que reciba como parametros el número de clusters `nc` y el número de componentes principales `P_comp` para el ajuste de los algoritmos `AgglomerativeClustering`, `SpectralClustering` y el número de componentes del algoritmo PCA, respectivamente. La función debe calcular los `P_comp` componentes principales del dataset de `sklearn` que se denomina `make_classification`. \n",
        "\n",
        "Una vez obtenidos los `P_comp` componentes, transforme todas las características del dataset hacia estos componentes, es decir, ahora tendrá únicamente `P_comp` características.\n",
        "\n",
        "Utilizando estas *PCA-features* entrene un estimador `AgglomerativeClustering` con parámetros `n_clusters=nc` y un estimador `SpectralClustering` con `n_clusters=nc` y `random_state=21`.\n",
        "\n",
        "La función debe:\n",
        "- **Devolver** los puntos de `make_classification` originales, **sin ser modificados** por el algoritmo PCA.\n",
        "- **Devolver** los puntos de `make_classification` **después de ser transformados** por el PCA.\n",
        "- **Devolver** el ground truth (las etiquetas) de los puntos.\n",
        "- **Devolver** el vector de etiquetas del objeto `AgglomerativeClustering`.\n",
        "- **Devolver** el vector de etiquetas del objeto `SpectralClustering`.\n",
        "- **Devolver** el objeto `AgglomerativeClustering` entrenado\n",
        "- **Devolver** el objeto `SpectralClustering` entrenado\n",
        "- **Devolver** el objeto PCA entrenado\n",
        "\n",
        "En cuanto al dataset `make_classification` genere puntos con los siguientes parametros:\n",
        "\n",
        "- 1500 elementos\n",
        "- `n_features=12`\n",
        "- `random_state=21`\n",
        "\n",
        "<br>\n",
        "\n",
        "Referencia de la función [AgglomerativeClustering](https://scikit-learn.org/stable/modules/generated/sklearn.cluster.AgglomerativeClustering.html#sklearn.cluster.AgglomerativeClustering)\n",
        "\n",
        "Referencia de la función [SpectralClustering](https://scikit-learn.org/stable/modules/generated/sklearn.cluster.SpectralClustering.html#sklearn.cluster.SpectralClustering)\n",
        "\n",
        "Referencia make_classification [ https://scikit-learn.org/stable/modules/generated/sklearn.datasets.make_classification.html#sklearn.datasets.make_classification ]"
      ]
    },
    {
      "cell_type": "code",
      "execution_count": 9,
      "metadata": {
        "id": "s-dDmR2sacxb"
      },
      "outputs": [],
      "source": [
        "#@title **code student**\n",
        "def function_20221_p03_01(nc, P_comp):\n",
        "  import numpy as np\n",
        "  from sklearn.decomposition import PCA\n",
        "  from sklearn.cluster import AgglomerativeClustering\n",
        "  from sklearn.cluster import SpectralClustering\n",
        "  from sklearn.datasets import make_classification\n",
        "  np.random.seed(21)\n",
        "  X, y = make_classification(n_samples=1500, n_features=12,random_state=21)\n",
        "  p = PCA(n_components=P_comp)\n",
        "  p.fit(X)\n",
        "  dp = p.transform(X)\n",
        "  ac = AgglomerativeClustering(n_clusters=nc).fit(dp)\n",
        "  sc = SpectralClustering(n_clusters=nc, random_state=21).fit(dp)\n",
        "\n",
        "  return X, dp, y, ac.labels_, sc.labels_, ac, sc, p"
      ]
    },
    {
      "cell_type": "code",
      "execution_count": 10,
      "metadata": {
        "id": "vk34qjDeHa4_",
        "cellView": "code",
        "colab": {
          "base_uri": "https://localhost:8080/",
          "height": 283
        },
        "outputId": "34e5c31c-a2ee-4af0-c472-67594f10406f"
      },
      "outputs": [
        {
          "output_type": "stream",
          "name": "stdout",
          "text": [
            "(1500, 12)\n"
          ]
        },
        {
          "output_type": "display_data",
          "data": {
            "text/plain": [
              "<Figure size 1080x288 with 4 Axes>"
            ],
            "image/png": "[encoded data removed]"
          },
          "metadata": {
            "needs_background": "light"
          }
        }
      ],
      "source": [
        "#@title **check your answer**\n",
        "X, dp, y, kmeans_labels, DBS_labels, KMEANS_, DBS_, PCA_ = function_20221_p03_01(nc=5, P_comp=2)\n",
        "print(X.shape)\n",
        "plt.figure(figsize=(15,4))\n",
        "plt.subplot(141);\n",
        "plt.scatter(X[:,0],X[:,1], c=y, cmap='rainbow') \n",
        "plt.subplot(142);\n",
        "plt.scatter(dp[:,0],dp[:,1], c=y, cmap='rainbow') \n",
        "plt.subplot(143);\n",
        "plt.scatter(dp[:,0],dp[:,1], c=kmeans_labels, cmap='rainbow') \n",
        "plt.subplot(144);\n",
        "plt.scatter(dp[:,0],dp[:,1], c=DBS_labels, cmap='rainbow') \n",
        "plt.show()"
      ]
    },
    {
      "cell_type": "code",
      "execution_count": 11,
      "metadata": {
        "id": "cZdkRGhZacxd",
        "colab": {
          "base_uri": "https://localhost:8080/"
        },
        "outputId": "7bba0e6a-4860-4090-ea04-4620f98011e4"
      },
      "outputs": [
        {
          "output_type": "stream",
          "name": "stdout",
          "text": [
            "Score\n",
            "\t5\n",
            "Message\n",
            "\tWell done. You got the highest score.\n"
          ]
        }
      ],
      "source": [
        "#@title **send your answer**\n",
        "student_func_str = inspect.getsource(function_20221_p03_01)\n",
        "r = check_solution_and_evaluate(assignment_id, student_func_str) "
      ]
    },
    {
      "cell_type": "markdown",
      "metadata": {
        "id": "EjNn0pJCbsKc"
      },
      "source": [
        "# **Ejercicio 2. Unsupervised**  <a name=\"eje2\"></a>"
      ]
    },
    {
      "cell_type": "markdown",
      "metadata": {
        "id": "JhmkHPqebsKp"
      },
      "source": [
        "Para este ejercicio utilizaremos la combinación de los datasets `make_blobs` y `make_gaussian_quantiles` para entrenar los estimadores `AgglomerativeClustering` y `DBSCAN`. \n",
        "\n",
        "Desarrolle una función que reciba el número de clusters `nc` y además:\n",
        "\n",
        "- **Concatene** de manera **coherente** ambos datasets, es decir, concatene las variables `X1` y `X2`, y las etiquetas `y1` y `y2`.<br>\n",
        "Use el valor del parámetro `axis` que **garantice** esa coherencia.\n",
        "- El nuevo dataset será almacenado en las variables `X` , `y`\n",
        "- Entrene un estimador `AgglomerativeClustering` con parámetros `n_clusters=nc`\n",
        "- Entrene un estimador `DBSCAN` con parámetros `eps=0.5` y `min_samples=5`\n",
        "\n",
        "**Devuelva:**\n",
        "- El nuevo dataset (`X`)\n",
        "- El nuevo conjunto de labels (`y`)\n",
        "- El vector de etiquetas del objeto `AgglomerativeClustering`\n",
        "- El vector de etiquetas del objeto `DBSCAN`\n",
        "- El objeto `AgglomerativeClustering` entrenado\n",
        "- El objeto `DBSCAN` entrenado"
      ]
    },
    {
      "cell_type": "code",
      "execution_count": null,
      "metadata": {
        "id": "UQPt9PUtbyhP"
      },
      "outputs": [],
      "source": [
        "#@title **code student**\n",
        "def function_20221_p03_02(nc):\n",
        "  import numpy as np\n",
        "  from sklearn.cluster import AgglomerativeClustering\n",
        "  from sklearn.cluster import DBSCAN\n",
        "  from sklearn.datasets import make_blobs\n",
        "  from sklearn.datasets import make_gaussian_quantiles\n",
        "  np.random.seed(21)\n",
        "  X1, y1 = make_blobs(n_samples=500, n_features=2, centers=3, random_state=21)\n",
        "  X2, y2 = make_gaussian_quantiles(n_samples=500, n_features=2, n_classes=3, random_state=21)\n",
        "  X = None\n",
        "  y = None\n",
        "  ac = AgglomerativeClustering(n_clusters=nc)\n",
        "  ac.fit(X)\n",
        "  dbs = DBSCAN(eps=0.5,min_samples=5)\n",
        "  dbs.fit(X)\n",
        "\n",
        "  return X, y, ac.labels_, dbs.labels_, ac, dbs"
      ]
    },
    {
      "cell_type": "code",
      "execution_count": null,
      "metadata": {
        "cellView": "code",
        "id": "283Wxkd7byhQ"
      },
      "outputs": [],
      "source": [
        "#@title **check your answer**\n",
        "X, y, kmeans_labels, DBS_labels, KMEANS_, DBS_ = function_20221_p03_02(nc=5)\n",
        "print(X.shape)\n",
        "plt.figure(figsize=(15,4))\n",
        "plt.subplot(141)\n",
        "plt.scatter(X[:,0],X[:,1], c=y, cmap='rainbow')\n",
        "plt.subplot(142)\n",
        "plt.scatter(X[:,0],X[:,1], c=kmeans_labels, cmap='rainbow')\n",
        "plt.subplot(143)\n",
        "plt.scatter(X[:,0],X[:,1], c=DBS_labels, cmap='rainbow')\n",
        "plt.show()"
      ]
    },
    {
      "cell_type": "code",
      "execution_count": null,
      "metadata": {
        "id": "CX3wB5DUcB2s"
      },
      "outputs": [],
      "source": [
        "#@title **send your answer**\n",
        "student_func_str = inspect.getsource(function_20221_p03_02)\n",
        "r = check_solution_and_evaluate(assignment_id, student_func_str) "
      ]
    },
    {
      "cell_type": "markdown",
      "source": [
        "<br><br><br>"
      ],
      "metadata": {
        "id": "SAFso738my3_"
      }
    },
    {
      "cell_type": "markdown",
      "source": [
        "# **Algoritmos Genéticos: organización de exámenes de escuela**"
      ],
      "metadata": {
        "id": "Iz226SQsaIfV"
      }
    },
    {
      "cell_type": "markdown",
      "metadata": {
        "id": "DkxWW9-mwPNd"
      },
      "source": [
        "Existe una serie de problemas computacionales un poco más dificiles que los poblemas NP, es decir, problemas cuya solución se puede alcanzar en un tiempo polinomial. A estos problemas difíciles se les conoce como problemas **NP-completos** y hoy trabajaremos en uno de ellos a pesar que se vea tan poco complejo!\n",
        "\n",
        "El objetivo de este taller es organizar los examenes de escuela de la universidad. Para esto imagine que tiene una lista con las asignaturas que tendrán examen de escuela y los estudiantes que están matriculados en cada una de estas asignaturas (Puede haber un estudiante que esté matriculado en varias asignaturas). Cuál es el número mínimo de franjas horarias que se deben habilitar para asegurar que no hay dos asignaturas organizadas en la misma franja horaria con un estudiante en común?\n",
        "\n",
        "Vamos a implementar un Algoritmo genético que resuelva este problema.\n",
        "\n",
        "Para esto, nos ayudaremos de matrices de organización. En ellas:<br><br>\n",
        "\n",
        "$$\n",
        "M_{i,j} = \n",
        "     \\begin{cases}\n",
        "       1  &\\quad \\text{Si } \\ i\\neq j \\text{, Y existe al menos un estudiante en }j \\text{ e }i  \\\\\n",
        "       0 &\\quad\\text{Si } \\ i\\neq j \\text{, Y no existe un estudiante en }j \\text{ e }i \\\\\n",
        "       0 &\\quad\\text{Si } \\ i=j\\\\\n",
        "     \\end{cases}\n",
        "$$\n",
        "<br>\n",
        "\n",
        "Por ejemplo, suponga que se tienen tres asignaturas: Asignatura 1, Asignatura 2, y Asignatura 3. Ahora suponga que la lista de estudiantes de cada asignatura es la siguiente:\n",
        "\n",
        "Asignatura 1: Alberto, Bruna, Carlos, y Daniel.\n",
        "\n",
        "Asignatura 2: Alberto, Bruna, Carlos, Eduardo, Federico y Gabriela.\n",
        "\n",
        "Asignatura 3: Eduardo, Federico, Ximena y Laura. \n",
        "\n",
        "De acá observamos que las Asignaturas 1 y 2 comparten 3 estudiantes, por lo tanto $M_{1,2} = 1$ &nbsp;&nbsp; y &nbsp;&nbsp; $M_{2,1}=1$. \n",
        "\n",
        "Las asignaturas 1 y 3 no comparten ningún estudiante, por tanto $M_{1,3} = 0$ &nbsp;&nbsp; y &nbsp;&nbsp; $M_{3,1} = 0$. \n",
        "\n",
        "Por último, las asignaturas 2 y 3 comparten 2 estudiantes, por tanto $M_{2,3} = 1$ &nbsp;&nbsp; y &nbsp;&nbsp; $M_{3,2} = 1$. \n",
        "\n",
        "A partir del análisis anterior, la matriz de organización de este ejemplo sería la siguiente:\n",
        "\n",
        "<img src=\"https://gitlab.com/bivl2ab/academico/cursos-uis/ai/ai-uis-student/-/raw/master/imgs/matriz_organizacion.png\" width=\"400px\" />\n",
        "\n",
        "<!-- $ \\begin{bmatrix}\n",
        "0 & 1 & 0 \\\\\n",
        "1 & 0 & 1 \\\\\n",
        "0 & 1 & 0 \n",
        "\\end{bmatrix}  $ -->\n",
        "\n",
        "\n",
        "**Individuos**\n",
        "\n",
        "En un problema con $N$ asignaturas los individuos son\n",
        "$[c_1,c_2,...,c_N]$ (de longitud $N$), donde $1\\leq c_i \\leq K$, siendo $c_i$ el número de la franja horaria asignado a la asignatura $i$, siendo $K$ el número de franjas horarias en las que deseamos organizar. Por ejemplo suponiendo $K=3$, tenemos 3 posibles franjas horarias, un posible individuo en este caso es [1,1,3,2] que indica que las asignaturas 1, 2, 3 y 4 estarán en la franja 1, 1, 3, y 2 respectivamente.<br><br>\n",
        "\n",
        "**Costo**\n",
        "\n",
        "Para un individuo particular de nuestra población, su costo viene dado por:\n",
        "\n",
        "$Costo(  [𝑐_1,𝑐_2,...,𝑐_𝑁]) = \\sum_{i=1}^N \\sum_{j=i}^N \\sigma(i,j)$\n",
        "\n",
        "donde:\n",
        "\n",
        "$$\n",
        "\\sigma(i,j) = \n",
        "     \\begin{cases}\n",
        "       1  &\\quad \\text{Si } \\ c_i = c_j \\text{, Y } M_{i,j} = 1  \\\\\n",
        "       0 &\\quad\\text{caso contrario} \n",
        "     \\end{cases}\n",
        "$$\n",
        "\n",
        "<br>\n",
        "\n",
        "En otras palabras, si la solución asigna dos asignaturas a la misma franja horaria ($c_i = c_j$) y si además estas comparten estudiante ($M_{i,j} = 1$), entonces el costo aumenta en una unidad."
      ]
    },
    {
      "cell_type": "code",
      "source": [
        "#@title **Ejecute este código** <br>Por favor no borrar\n",
        "\n",
        "#Util functions\n",
        "def function_create_org_matrix(N):\n",
        "    import numpy as np\n",
        "    import random\n",
        "    random.seed(21)\n",
        "    #Your Code Here\n",
        "\n",
        "    org_matrix = []\n",
        "    for i in range(N):      \n",
        "        vertex = []\n",
        "        for j in range(N):    \n",
        "            vertex.append(random.randint(0, 1))\n",
        "        org_matrix.append(vertex)\n",
        "    for i in range(N):\n",
        "        for j in range(0, i):\n",
        "            org_matrix[i][j] = org_matrix[j][i]\n",
        "    for i in range(N):\n",
        "        org_matrix[i][i] = 0\n",
        "    \n",
        "    return org_matrix\n",
        "    \n",
        "def function_init_population(pob_size,N,K):\n",
        "    import random\n",
        "    import numpy as np\n",
        "    random.seed(21)\n",
        "\n",
        "    #Code\n",
        "    population = []\n",
        "    for i in range(pob_size):\n",
        "      individual = []\n",
        "      for j in range(N):\n",
        "        individual.append(random.randint(1,K))\n",
        "      population.append(individual)\n",
        "    return np.array(population)\n",
        "\n",
        "def function_cost(M,individuo):  \n",
        "  cost = 0\n",
        "  N = len(M)\n",
        "  for i in range(N):\n",
        "      for j in range(i, N):\n",
        "          if(individuo[i] == individuo[j]) and (M[i][j] == 1):\n",
        "              cost += 1\n",
        "  return cost"
      ],
      "metadata": {
        "id": "k-0Z7RSBh3sF",
        "cellView": "form"
      },
      "execution_count": 6,
      "outputs": []
    },
    {
      "cell_type": "markdown",
      "source": [
        "<br><br>\n",
        "Con base en la anterior información, desarrolle los siguientes ejercicios:"
      ],
      "metadata": {
        "id": "mZNKEJpNh7Ee"
      }
    },
    {
      "cell_type": "markdown",
      "metadata": {
        "id": "FJApYGO29ro6"
      },
      "source": [
        "# **Ejercicio 3 (Crossover)**  <a name=\"eje3\"></a>"
      ]
    },
    {
      "cell_type": "markdown",
      "metadata": {
        "id": "h4YYebCCsZyw"
      },
      "source": [
        "En este punto se creará una función de Crossover. Para ello se generarán 3 hijos a partir de 3 individuos de entrada. Para ello seleccionaremos de forma aleatoria un punto de corte (el mismo para los 3 individuos, como se indica en la Figura). \n",
        "\n",
        "Este punto es una posición, a partir de la cual se intercambian las franjas horarias. Realice los siguientes intercambios:\n",
        "\n",
        "- El primer hijo ($new_1$) se generará tomando la primera parte del individuo 1 y la segunda parte del individuo 3.\n",
        "- El segundo hijo ($new_2$) se generará tomando la primera parte del individuo 2 y la segunda parte del individuo 1.\n",
        "- El tercer hijo ($new_3$) se generará tomando la primera parte del individuo 3 y la segunda parte del individuo 2.\n",
        "\n",
        "Cree una función para que dados tres individuos `individuo1`, `individuo2` e `individuo3`, **devuelva** 3 **hijos** `new1`, `new2`, ``new3`` en donde cada uno debe ser una **lista**.\n",
        "<br><br>\n",
        "\n",
        "<img src=\"https://gitlab.com/bivl2ab/academico/cursos-uis/ai/ai-uis-student/-/raw/master/imgs/crossover-v1.png\" width=\"700\"/>\n",
        "<br><br>\n",
        "\n"
      ]
    },
    {
      "cell_type": "code",
      "execution_count": null,
      "metadata": {
        "id": "vkxpilCU_fQ4"
      },
      "outputs": [],
      "source": [
        "#@title **code student**\n",
        "def function_crossover_20221_p03_03(individuo1, individuo2, individuo3):\n",
        "  import random\n",
        "  random.seed(21)\n",
        "  #Your Code Here.\n",
        "\n",
        "  new1=[]\n",
        "  new2=[]\n",
        "  new3=[]\n",
        "  \n",
        "  return new1, new2, new3"
      ]
    },
    {
      "cell_type": "code",
      "source": [
        "indv1, indv2, indv3 = function_init_population(pob_size=5, N=20, K=3)[0:3]\n",
        "print(f\"Individuo 1: {indv1}\")\n",
        "print(f\"Individuo 2: {indv2}\")\n",
        "print(f\"Individuo 3: {indv3}\")\n",
        "\n",
        "function_crossover_20221_p03_03(individuo1 = indv1, individuo2 = indv2, individuo3 = indv3)"
      ],
      "metadata": {
        "id": "vIU0Fyf8ncYM"
      },
      "execution_count": null,
      "outputs": []
    },
    {
      "cell_type": "code",
      "execution_count": null,
      "metadata": {
        "id": "LlduFvyT_f-v"
      },
      "outputs": [],
      "source": [
        "#@title **send your answer**\n",
        "student_func_str = inspect.getsource(function_crossover_20221_p03_03)\n",
        "r = check_solution_and_evaluate(assignment_id, student_func_str) "
      ]
    },
    {
      "cell_type": "markdown",
      "metadata": {
        "id": "fwfRs-5XAxMf"
      },
      "source": [
        "# **Ejercicio 4 (Mutation)** <a name=\"eje4\"></a>"
      ]
    },
    {
      "cell_type": "markdown",
      "metadata": {
        "id": "6MZt8qT6AtSB"
      },
      "source": [
        "Realizaremos una función de mutación que reciba a un individuo, un valor $K$ y una probabilidad de mutación, y que le aplique al individuo los siguientes cambios:\n",
        "\n",
        "1) Seleccionar una posición &nbsp; $r$ &nbsp; aleatoria en el individuo.\n",
        "\n",
        "2) Recorrer toda la lista del individuo (desde la primera hasta la ultima posición, ignorando la posición &nbsp; $r$) y encontrar una posición **cuyo valor** (franja horaria) coincida con el valor en la posición &nbsp; $r$.\n",
        "\n",
        "3) Tan pronto se encuentre una posición que cumpla las condiciones anteriores, se debe asignarle un valor (franja horaria) **aleatorio** que se encuentre en el rango $[1,K]$.\n",
        "\n",
        "<br>\n",
        "<img src=\"https://gitlab.com/bivl2ab/academico/cursos-uis/ai/ai-uis-student/-/raw/master/imgs/mutation-v1.png\" width=\"800\"/>\n",
        "<br><br>\n",
        "\n",
        "La función debe recibir como entrada el individuo (`individuo`), el número de posibles franjas horarias `K`, y una probabilidad de mutación (`mutation_prob`).\n",
        "\n",
        "- La función debe **devolver** un individuo mutado y debe ser una **lista**."
      ]
    },
    {
      "cell_type": "code",
      "execution_count": null,
      "metadata": {
        "id": "Cr3n1rRhC1qd"
      },
      "outputs": [],
      "source": [
        "#@title **code student**\n",
        "def func_mutation_20221_p03_04(individuo, K, mutation_prob):\n",
        "    import random\n",
        "    random.seed(21)\n",
        "    #Your Code Here.\n",
        "    for i in range(len(individuo)):\n",
        "      if np.random.random()<mutation_prob:\n",
        "      \n",
        "\n",
        "    return None"
      ]
    },
    {
      "cell_type": "code",
      "source": [
        "indv = function_init_population(pob_size=5, N=20, K=3)[0]\n",
        "print(indv)\n",
        "func_mutation_20221_p03_04(individuo=indv, K=5, mutation_prob=0.2)"
      ],
      "metadata": {
        "id": "AgEIaRIHn0ug"
      },
      "execution_count": null,
      "outputs": []
    },
    {
      "cell_type": "code",
      "execution_count": null,
      "metadata": {
        "id": "xUNB7J-wC49l"
      },
      "outputs": [],
      "source": [
        "#@title **send your answer**\n",
        "student_func_str = inspect.getsource(func_mutation_20221_p03_04)\n",
        "r = check_solution_and_evaluate(assignment_id, student_func_str) "
      ]
    },
    {
      "cell_type": "markdown",
      "source": [
        "<br><br><br>"
      ],
      "metadata": {
        "id": "rNJiA6DrnVC5"
      }
    },
    {
      "cell_type": "markdown",
      "metadata": {
        "id": "5brgVP0QDGyd"
      },
      "source": [
        "# **A simular!**\n",
        "\n",
        "Es hora de probar nuestro algoritmo para calcular el mínimo de franjas horarias. Para esto empezaremos con un valor de $K$ alto e iremos reduciendo su valor hasta encontrar el mínimo."
      ]
    },
    {
      "cell_type": "code",
      "execution_count": null,
      "metadata": {
        "id": "nFhTDIOitXvR",
        "cellView": "form"
      },
      "outputs": [],
      "source": [
        "#@title **Ejecute este código** <br>Por favor no borrar\n",
        "\n",
        "def get_df_franja(best_indv,num_asignaturas):\n",
        "  df_info_asignaturas = pd.DataFrame(columns={\"Asignatura\",\"Franja_horaria\"})      \n",
        "  df_info_asignaturas[\"Asignatura\"] = [f\"Asignatura {i}\" for i in range(1,num_asignaturas+1)]\n",
        "  df_info_asignaturas[\"Franja_horaria\"] = best_indv \n",
        "  return df_info_asignaturas\n",
        "\n",
        "def plot_evolution(gen_idx,costs,num_franjas = None):\n",
        "  plt.plot(gen_idx,costs)\n",
        "  if num_franjas is not None: plt.title(f\"Num Franjas Horarias {num_franjas}\")\n",
        "  plt.xlabel(\"Generation\")\n",
        "  plt.ylabel(\"Cost\")\n",
        "  plt.show()\n",
        "\n",
        "def function_selection(population,cost_func,org_matrix):\n",
        "  import random\n",
        "\n",
        "  #costo total\n",
        "  total_cost = 0\n",
        "  for individual in population:\n",
        "      total_cost += 1/(1+cost_func(org_matrix, individual))\n",
        "  \n",
        "  # cumulative cost sum es una distribucion normal del peso de cada costo,\n",
        "  # i.e para el. individuo i, su costo es 1/1+c_i. Y su probabilidad dado ese costo\n",
        "  # es cumulative_cost[i]. A esto se llama \"Fitness proportionate selection\".\n",
        "  cumulative_cost = []\n",
        "  cumulative_cost_sum = 0\n",
        "  for i in range(len(population)):\n",
        "      cumulative_cost_sum += (1 / (1+cost_func(org_matrix, population[i])))/total_cost\n",
        "      cumulative_cost.append(cumulative_cost_sum)\n",
        "  \n",
        "  # De forma aleatoria se eligirán individuos con una probabilidad random.\n",
        "  new_population = []  \n",
        "  for i in range(len(population)):\n",
        "      roulette = random.uniform(0, 1)\n",
        "      for j in range(len(population)):\n",
        "          if (roulette <= cumulative_cost[j]):\n",
        "              new_population.append(population[j])\n",
        "              break\n",
        "  return new_population  \n",
        "\n",
        "def run_ga(num_asignaturas,\n",
        "           pob_size,\n",
        "           create_org_matrix_func,\n",
        "           init_pob_func,\n",
        "           crossover_func,\n",
        "           mutation_func,\n",
        "           cost_func,\n",
        "          #  crossover_prob,\n",
        "           mutation_prob,\n",
        "           n_iters):  \n",
        "  org_matrix = create_org_matrix_func(num_asignaturas) #Se crea matriz ede organizacion\n",
        "  print(f\"Para {num_asignaturas} asignaturas, tenemos la matriz de organizacion:\\n\\n{np.array(org_matrix)}\"), \n",
        "\n",
        "  # Se crea el numero maximo de asignaturas que se podrian cruzar en la misma franja\n",
        "  \n",
        "  # max_num_franjas_cruzadas = 1\n",
        "  # for i in range(num_asignaturas):\n",
        "  #     if sum(org_matrix[i]) > max_num_franjas_cruzadas:\n",
        "  #         max_num_franjas_cruzadas = sum(org_matrix[i]) + 1\n",
        "\n",
        "  max_num_franjas_cruzadas = num_asignaturas\n",
        "  for num_franjas in range(max_num_franjas_cruzadas,0,-1):\n",
        "    print(\"-\"*10 + f\"Using {num_franjas} franjas\" + \"-\"*10)\n",
        "    population = init_pob_func(pob_size,num_asignaturas,num_franjas)\n",
        "    gen_idx, costs = [], []\n",
        "    for generation in range(1,n_iters+1):\n",
        "      \n",
        "      #Best population    \n",
        "      population = function_selection(population = population,\n",
        "                                      cost_func = cost_func,\n",
        "                                      org_matrix = org_matrix)\n",
        "      #crossover\n",
        "      new_population = []\n",
        "      random.shuffle(population)\n",
        "      for i in range(0, pob_size-2, 3):\n",
        "          child1, child2, child3 = crossover_func(population[i], population[i+1], population[i+2])\n",
        "          new_population.append(child1)\n",
        "          new_population.append(child2)\n",
        "          new_population.append(child3)\n",
        "\n",
        "      #Mutation\n",
        "      for i in range(len(new_population)):\n",
        "        if generation < 400:\n",
        "          new_population[i] = mutation_func(individuo = new_population[i], \n",
        "                                            K = num_franjas, \n",
        "                                            mutation_prob = 0.5)\n",
        "        else:\n",
        "          new_population[i] = mutation_func(individuo = new_population[i], \n",
        "                                            K = num_franjas, \n",
        "                                            mutation_prob = mutation_prob)      \n",
        "      #Best Cost\n",
        "      population = new_population\n",
        "      cost_best_indv_franja = cost_func(org_matrix,population[0])\n",
        "      best_indv_franja = population[0]\n",
        "      # print(f\"GEN {generation} Cost: {cost_best_indv_franja}. Best indv: {best_indv_franja}\")\n",
        "      \n",
        "      if cost_best_indv_franja == 0:\n",
        "        # display(get_df_franja(best_indv_franja,num_asignaturas))\n",
        "        cost_best_indv = cost_best_indv_franja\n",
        "        best_indv = best_indv_franja\n",
        "        gen_idx.append(generation-1)\n",
        "        costs.append(cost_best_indv)                \n",
        "        break\n",
        "      else:\n",
        "        for individual in population:\n",
        "            cost_indv = cost_func(org_matrix, individual)\n",
        "            if cost_indv < cost_best_indv_franja:\n",
        "                cost_best_indv_franja = cost_indv\n",
        "                best_indv_franja = individual\n",
        "                # print(f\"New!! Cost: {cost_best_indv}. Best indv: {best_indv}\")\n",
        "        if generation % 10 ==0:\n",
        "          print(f\"\\nGeneration {generation} | Best Cost: {cost_best_indv_franja} | Indv: {best_indv_franja}\")    \n",
        "      \n",
        "      if cost_best_indv_franja == 0: #Si luego de comparar con otros individuos se encontró uno de coste cero\n",
        "        # display(get_df_franja(best_indv_franja,num_asignaturas))\n",
        "        cost_best_indv = cost_best_indv_franja\n",
        "        best_indv = best_indv_franja\n",
        "        gen_idx.append(generation-1)\n",
        "        costs.append(cost_best_indv)        \n",
        "        if gen_idx[-1] >=10:\n",
        "          plot_evolution(gen_idx,costs,num_franjas)\n",
        "        break\n",
        "      else:\n",
        "        # print(f\"No zero after comparison --> GEN {generation} Cost: {cost_best_indv_franja}. Best indv: {best_indv_franja}\")\n",
        "        gen_idx.append(generation)\n",
        "        costs.append(cost_best_indv_franja)\n",
        "        if generation == n_iters:\n",
        "          print(\"Can't find zero cost solution\")\n",
        "          try: df_info_asignaturas = get_df_franja(best_indv,num_asignaturas)\n",
        "          except: df_info_asignaturas = get_df_franja(best_indv_franja,num_asignaturas) \n",
        "          solution = len(df_info_asignaturas[\"Franja_horaria\"].unique())\n",
        "          # print(f\"\\n\\n ---> Como mínimo se necesitan {solution} franjas horarias\")\n",
        "          # print(gen_idx,costs)\n",
        "          plot_evolution(gen_idx,costs,num_franjas)\n",
        "          return np.array(org_matrix), best_indv,gen_idx,costs, df_info_asignaturas, solution\n",
        "      # print(costs)\n",
        "    gen_idx, costs = [], []\n",
        "    \n",
        "  "
      ]
    },
    {
      "cell_type": "code",
      "execution_count": null,
      "metadata": {
        "id": "-LCFeN5Suzv8"
      },
      "outputs": [],
      "source": [
        "#@title **Ejecute este código** <br>Por favor no borrar\n",
        "\n",
        "org_matrix, best_indv,gen_idx,costs_last_franja, df_info_asignaturas, solution = run_ga(num_asignaturas = 10,\n",
        "                                                        pob_size = 500,\n",
        "                                                        create_org_matrix_func = function_create_org_matrix,\n",
        "                                                        init_pob_func = function_init_population,\n",
        "                                                        crossover_func = function_crossover_20221_p03_01,\n",
        "                                                        mutation_func = func_mutation_20221_p03_02,\n",
        "                                                        cost_func = function_cost,                                                        \n",
        "                                                        mutation_prob = 0.2,\n",
        "                                                        n_iters = 100)\n"
      ]
    },
    {
      "cell_type": "code",
      "execution_count": null,
      "metadata": {
        "id": "skSJhKghEOV5"
      },
      "outputs": [],
      "source": [
        "#@title **Ejecute este código** <br>Por favor no borrar\n",
        "\n",
        "print(f\"Para las asignaturas con la matriz de condición:\\n {org_matrix}\")\n",
        "print(f\"\\nCheck if the answer has cost zero: {function_cost(org_matrix,best_indv)}\")\n",
        "print(f\"\\n\\n ---> Se necesitan como mínimo {solution} franjas horarias\")\n",
        "display(df_info_asignaturas)"
      ]
    },
    {
      "cell_type": "markdown",
      "source": [
        "<br><br><br>"
      ],
      "metadata": {
        "id": "xyi6pCYSnyAH"
      }
    },
    {
      "cell_type": "markdown",
      "metadata": {
        "id": "_iCBtSDYLN4Z"
      },
      "source": [
        "# References:\n",
        "[1] [Genetic algorithm Graph Coloring](https://www.geeksforgeeks.org/project-idea-genetic-algorithms-for-graph-colouring/)"
      ]
    },
    {
      "cell_type": "markdown",
      "metadata": {
        "id": "7Eu9G3tOuO6e"
      },
      "source": [
        "---\n",
        "<img src=\"https://gitlab.com/bivl2ab/academico/cursos-uis/ai/ai-uis-student/raw/master/imgs/bannerThanks.jpg\" alt=\"Drawing\" style=\"width:700px;\"/>"
      ]
    }
  ],
  "metadata": {
    "colab": {
      "collapsed_sections": [],
      "provenance": []
    },
    "kernelspec": {
      "display_name": "Python 3 (ipykernel)",
      "language": "python",
      "name": "python3"
    },
    "language_info": {
      "codemirror_mode": {
        "name": "ipython",
        "version": 3
      },
      "file_extension": ".py",
      "mimetype": "text/x-python",
      "name": "python",
      "nbconvert_exporter": "python",
      "pygments_lexer": "ipython3",
      "version": "3.9.7"
    }
  },
  "nbformat": 4,
  "nbformat_minor": 0
}