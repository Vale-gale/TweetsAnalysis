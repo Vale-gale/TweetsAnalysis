{
  "nbformat": 4,
  "nbformat_minor": 0,
  "metadata": {
    "colab": {
      "provenance": [],
      "toc_visible": true
    },
    "kernelspec": {
      "name": "python3",
      "display_name": "Python 3"
    },
    "language_info": {
      "name": "python"
    }
  },
  "cells": [
    {
      "cell_type": "code",
      "source": [
        "import pandas as pd\n",
        "import numpy as np\n",
        "import tensorflow as tf\n",
        "from tensorflow import keras"
      ],
      "metadata": {
        "id": "KdB5D17dAB0w"
      },
      "execution_count": 3,
      "outputs": []
    },
    {
      "cell_type": "code",
      "execution_count": 1,
      "metadata": {
        "colab": {
          "base_uri": "https://localhost:8080/"
        },
        "id": "R7Cnwy3E_mFT",
        "outputId": "10225750-bdcc-4a98-ebb4-3e915139e081"
      },
      "outputs": [
        {
          "output_type": "stream",
          "name": "stdout",
          "text": [
            "Mounted at /content/drive\n"
          ]
        }
      ],
      "source": [
        "from google.colab import drive\n",
        "drive.mount('/content/drive')"
      ]
    },
    {
      "cell_type": "code",
      "source": [
        "#Cargar datos de entrenamiento y prueba\n",
        "\n",
        "train_df = pd.read_excel('/content/drive/MyDrive/train_data.xlsx', names=['text', 'label'])\n",
        "test_df = pd.read_excel('/content/drive/MyDrive/test_data.xlsx', names=['text', 'label'])\n",
        "\n",
        "\n",
        "from sklearn.preprocessing import LabelEncoder\n",
        "\n",
        "label_encoder = LabelEncoder()\n",
        "training_labels = label_encoder.fit_transform(train_df['label'])\n",
        "testing_labels = label_encoder.transform(test_df['label'])\n",
        "\n",
        "print(train_df.head())\n",
        "print(test_df.head())"
      ],
      "metadata": {
        "id": "ArHvH3VX_yFY"
      },
      "execution_count": null,
      "outputs": []
    },
    {
      "cell_type": "code",
      "source": [
        "import nltk\n",
        "from nltk.corpus import stopwords\n",
        "nltk.download('stopwords')\n",
        "stopwords = stopwords.words('english')\n",
        "nltk.download('punkt')\n",
        "\n",
        "def preprocess_text(text):\n",
        "    tokens = nltk.word_tokenize(text)# Tokenizar el texto\n",
        "    tokens = [token for token in tokens if token.lower() not in stopwords]\n",
        "    tokens = [token.lower() for token in tokens]\n",
        "    text = \" \".join(tokens)\n",
        "    return text\n",
        "\n",
        "train_df['text'] = train_df['text'].apply(preprocess_text)\n",
        "test_df['text'] = test_df['text'].apply(preprocess_text)\n"
      ],
      "metadata": {
        "colab": {
          "base_uri": "https://localhost:8080/"
        },
        "id": "G7-2DBxuAIU4",
        "outputId": "1a6f1d67-5900-42f5-baa2-fa5ae58df823"
      },
      "execution_count": 6,
      "outputs": [
        {
          "output_type": "stream",
          "name": "stderr",
          "text": [
            "[nltk_data] Downloading package stopwords to /root/nltk_data...\n",
            "[nltk_data]   Package stopwords is already up-to-date!\n",
            "[nltk_data] Downloading package punkt to /root/nltk_data...\n",
            "[nltk_data]   Unzipping tokenizers/punkt.zip.\n"
          ]
        }
      ]
    },
    {
      "cell_type": "code",
      "source": [
        "from tensorflow.keras.preprocessing.text import Tokenizer\n",
        "\n",
        "vocab_size = 10000\n",
        "tokenizer = Tokenizer(num_words=vocab_size, oov_token='<OOV>')\n",
        "tokenizer.fit_on_texts(train_df['text'])\n",
        "\n",
        "training_sequences = tokenizer.texts_to_sequences(train_df['text'])\n",
        "testing_sequences = tokenizer.texts_to_sequences(test_df['text'])\n",
        "\n",
        "max_length = 100\n",
        "training_padded = keras.preprocessing.sequence.pad_sequences(training_sequences, maxlen=max_length, truncating='post')\n",
        "testing_padded = keras.preprocessing.sequence.pad_sequences(testing_sequences, maxlen=max_length, truncating='post')\n",
        "\n",
        "training_labels = np.array(train_df['label'])\n",
        "testing_labels = np.array(test_df['label'])\n"
      ],
      "metadata": {
        "id": "TuTlxVPTAdtY"
      },
      "execution_count": 7,
      "outputs": []
    },
    {
      "cell_type": "code",
      "source": [
        "embedding_dim = 16\n",
        "\n",
        "model = keras.Sequential([\n",
        "    keras.layers.Embedding(vocab_size, embedding_dim, input_length=max_length),\n",
        "    keras.layers.Conv1D(128, 5, activation='relu'),\n",
        "    keras.layers.GlobalMaxPooling1D(),\n",
        "    keras.layers.Dense(64, activation='relu'),\n",
        "    keras.layers.Dense(3, activation='softmax')\n",
        "])\n"
      ],
      "metadata": {
        "id": "IxX7JVfWAf0B"
      },
      "execution_count": 8,
      "outputs": []
    },
    {
      "cell_type": "code",
      "source": [
        "num_epochs = 10\n",
        "\n",
        "model.compile(loss='sparse_categorical_crossentropy', optimizer='adam', metrics=['accuracy'])\n",
        "history = model.fit(training_padded, training_labels, epochs=num_epochs, validation_data=(testing_padded, testing_labels))\n"
      ],
      "metadata": {
        "colab": {
          "base_uri": "https://localhost:8080/"
        },
        "id": "v8C0vhkiAuHV",
        "outputId": "fff0175a-0d30-4cf5-b166-e291c302ada2"
      },
      "execution_count": 11,
      "outputs": [
        {
          "output_type": "stream",
          "name": "stdout",
          "text": [
            "Epoch 1/10\n",
            "687/687 [==============================] - 10s 14ms/step - loss: 0.8237 - accuracy: 0.6251 - val_loss: 0.6211 - val_accuracy: 0.7509\n",
            "Epoch 2/10\n",
            "687/687 [==============================] - 10s 15ms/step - loss: 0.6029 - accuracy: 0.7577 - val_loss: 0.4967 - val_accuracy: 0.8142\n",
            "Epoch 3/10\n",
            "687/687 [==============================] - 11s 15ms/step - loss: 0.4725 - accuracy: 0.8206 - val_loss: 0.4149 - val_accuracy: 0.8584\n",
            "Epoch 4/10\n",
            "687/687 [==============================] - 13s 18ms/step - loss: 0.3536 - accuracy: 0.8740 - val_loss: 0.3545 - val_accuracy: 0.8833\n",
            "Epoch 5/10\n",
            "687/687 [==============================] - 9s 13ms/step - loss: 0.2532 - accuracy: 0.9135 - val_loss: 0.3417 - val_accuracy: 0.8975\n",
            "Epoch 6/10\n",
            "687/687 [==============================] - 12s 17ms/step - loss: 0.1776 - accuracy: 0.9411 - val_loss: 0.3481 - val_accuracy: 0.9068\n",
            "Epoch 7/10\n",
            "687/687 [==============================] - 11s 15ms/step - loss: 0.1284 - accuracy: 0.9585 - val_loss: 0.3574 - val_accuracy: 0.9128\n",
            "Epoch 8/10\n",
            "687/687 [==============================] - 11s 15ms/step - loss: 0.0946 - accuracy: 0.9699 - val_loss: 0.3927 - val_accuracy: 0.9157\n",
            "Epoch 9/10\n",
            "687/687 [==============================] - 9s 13ms/step - loss: 0.0750 - accuracy: 0.9773 - val_loss: 0.4329 - val_accuracy: 0.9179\n",
            "Epoch 10/10\n",
            "687/687 [==============================] - 11s 15ms/step - loss: 0.0613 - accuracy: 0.9810 - val_loss: 0.4440 - val_accuracy: 0.9196\n"
          ]
        }
      ]
    },
    {
      "cell_type": "code",
      "source": [
        "_, test_acc = model.evaluate(testing_padded, testing_labels)\n",
        "\n",
        "print('Test accuracy:', test_acc)\n"
      ],
      "metadata": {
        "colab": {
          "base_uri": "https://localhost:8080/"
        },
        "id": "DHWm86xTCFoP",
        "outputId": "6d87924f-bc56-4145-aa67-5cb49d61e56a"
      },
      "execution_count": 12,
      "outputs": [
        {
          "output_type": "stream",
          "name": "stdout",
          "text": [
            "172/172 [==============================] - 1s 4ms/step - loss: 0.4440 - accuracy: 0.9196\n",
            "Test accuracy: 0.9195632338523865\n"
          ]
        }
      ]
    },
    {
      "cell_type": "code",
      "source": [
        "new_texts = ['This day is great!', 'This night is terrible']\n",
        "new_sequences = tokenizer.texts_to_sequences(new_texts)\n",
        "new_padded = keras.preprocessing.sequence.pad_sequences(new_sequences, maxlen=max_length, truncating='post')\n",
        "\n",
        "predictions = model.predict(new_padded)\n",
        "\n",
        "for i, text in enumerate(new_texts):\n",
        "    print(text, predictions[i])\n"
      ],
      "metadata": {
        "colab": {
          "base_uri": "https://localhost:8080/"
        },
        "id": "4__NYbMBCJ0d",
        "outputId": "dade0f45-eb06-4a76-c0e1-73a187bb804d"
      },
      "execution_count": 13,
      "outputs": [
        {
          "output_type": "stream",
          "name": "stdout",
          "text": [
            "1/1 [==============================] - 0s 113ms/step\n",
            "This movie is great! [4.1358355e-05 6.8743467e-01 3.1252393e-01]\n",
            "This movie is terrible. [9.9999189e-01 8.0825284e-06 6.8742123e-09]\n"
          ]
        }
      ]
    },
    {
      "cell_type": "code",
      "source": [
        "from sklearn.metrics import confusion_matrix\n",
        "import matplotlib.pyplot as plt\n",
        "import seaborn as sns\n",
        "\n",
        "predictions = model.predict(testing_padded)\n",
        "\n",
        "predicted_labels = np.argmax(predictions, axis=1)\n",
        "\n",
        "cm = confusion_matrix(testing_labels, predicted_labels)\n",
        "\n",
        "sns.heatmap(cm, annot=True, fmt='d', cmap='Blues')\n",
        "plt.xlabel('Predicted')\n",
        "plt.ylabel('True')\n",
        "plt.show()\n"
      ],
      "metadata": {
        "colab": {
          "base_uri": "https://localhost:8080/",
          "height": 296
        },
        "id": "GnUGPDXZDBEA",
        "outputId": "2e2d960a-5cb0-4642-ac76-fed67166563e"
      },
      "execution_count": 14,
      "outputs": [
        {
          "output_type": "stream",
          "name": "stdout",
          "text": [
            "172/172 [==============================] - 1s 6ms/step\n"
          ]
        },
        {
          "output_type": "display_data",
          "data": {
            "text/plain": [
              "<Figure size 432x288 with 2 Axes>"
            ],
            "image/png": "[encoded data removed]"
          },
          "metadata": {
            "needs_background": "light"
          }
        }
      ]
    },
    {
      "cell_type": "code",
      "source": [
        "from sklearn.metrics import classification_report\n",
        "\n",
        "predictions = model.predict(testing_padded)\n",
        "predicted_labels = np.argmax(predictions, axis=1)\n",
        "print(classification_report(testing_labels, predicted_labels))\n"
      ],
      "metadata": {
        "id": "9E5ze1HjDDZ3"
      },
      "execution_count": null,
      "outputs": []
    },
    {
      "cell_type": "code",
      "source": [
        "from sklearn.metrics import precision_score\n",
        "import seaborn as sns\n",
        "import matplotlib.pyplot as plt\n",
        "\n",
        "class_names = np.unique(train_df['label'])\n",
        "\n",
        "precision = precision_score(testing_labels, predicted_labels, average=None)\n",
        "\n",
        "\n",
        "sns.heatmap([precision], cmap='Blues', annot=True, cbar=False, fmt='.2g')\n",
        "plt.xlabel('Clases')\n",
        "plt.ylabel('Precisión')\n",
        "plt.xticks(np.arange(len(class_names)) + 0.5, class_names, rotation=90)\n",
        "plt.show()"
      ],
      "metadata": {
        "colab": {
          "base_uri": "https://localhost:8080/",
          "height": 289
        },
        "id": "t2znesLLFpX_",
        "outputId": "2718d7b5-230c-48ee-b39c-68226f717398"
      },
      "execution_count": 41,
      "outputs": [
        {
          "output_type": "display_data",
          "data": {
            "text/plain": [
              "<Figure size 432x288 with 1 Axes>"
            ],
            "image/png": "[encoded data removed]"
          },
          "metadata": {
            "needs_background": "light"
          }
        }
      ]
    }
  ]
}